{
  "nbformat": 4,
  "nbformat_minor": 0,
  "metadata": {
    "colab": {
      "provenance": []
    },
    "kernelspec": {
      "name": "python3",
      "display_name": "Python 3"
    },
    "language_info": {
      "name": "python"
    }
  },
  "cells": [
    {
      "cell_type": "code",
      "execution_count": null,
      "metadata": {
        "id": "0QwEZNSVo0yZ"
      },
      "outputs": [],
      "source": []
    },
    {
      "cell_type": "markdown",
      "source": [
        "data ypes"
      ],
      "metadata": {
        "id": "4W0ge_f3rk9d"
      }
    },
    {
      "cell_type": "code",
      "source": [
        "#integer data type\n",
        "x=10 #integer value\n",
        "y=20  #int value\n",
        "z=x+y\n",
        "print(x+y)"
      ],
      "metadata": {
        "colab": {
          "base_uri": "https://localhost:8080/"
        },
        "id": "IGV9ae47rl_J",
        "outputId": "0f31de12-28a5-41bd-b7b4-7238967b9436"
      },
      "execution_count": null,
      "outputs": [
        {
          "output_type": "stream",
          "name": "stdout",
          "text": [
            "30\n"
          ]
        }
      ]
    },
    {
      "cell_type": "code",
      "source": [
        "#python is dynamically typed-- you dint have the declare the type of varuiable\n",
        "x=10\n",
        "print(x)\n",
        "print(type(x))"
      ],
      "metadata": {
        "colab": {
          "base_uri": "https://localhost:8080/"
        },
        "id": "cbp4u4msrxXz",
        "outputId": "fff4aff1-a72c-4c3c-d1b2-1d14ecd6c86f"
      },
      "execution_count": null,
      "outputs": [
        {
          "output_type": "stream",
          "name": "stdout",
          "text": [
            "10\n",
            "<class 'int'>\n"
          ]
        }
      ]
    },
    {
      "cell_type": "code",
      "source": [
        "#numeric operations\n",
        "x=5\n",
        "y=2\n",
        "print(x+y)\n",
        "print(x-y)\n",
        "print(x*y)\n",
        "print(x/y)\n",
        "print(x%y)  #modulus operator(remainder)\n",
        "print(x**y)\n",
        "print(x//y) #quotient , integer value only (floor division)"
      ],
      "metadata": {
        "id": "yzaVyvmXsMTQ"
      },
      "execution_count": null,
      "outputs": []
    },
    {
      "cell_type": "code",
      "source": [
        "x=10\n",
        "y=3\n",
        "z=x//y\n",
        "print(z)"
      ],
      "metadata": {
        "colab": {
          "base_uri": "https://localhost:8080/"
        },
        "id": "-_x69Dnvr-WH",
        "outputId": "d56b10af-bb75-4f80-fc16-ca5d1ec6e20e"
      },
      "execution_count": null,
      "outputs": [
        {
          "output_type": "stream",
          "name": "stdout",
          "text": [
            "3\n"
          ]
        }
      ]
    },
    {
      "cell_type": "code",
      "source": [
        "#negarive integrs\n",
        "x=-10\n",
        "print(abs(-10))  #absolute only the positive value of an integer"
      ],
      "metadata": {
        "colab": {
          "base_uri": "https://localhost:8080/"
        },
        "id": "-Fh_i4_1sp63",
        "outputId": "aaa2db52-ea90-48ae-c483-70e0c4c61857"
      },
      "execution_count": null,
      "outputs": [
        {
          "output_type": "stream",
          "name": "stdout",
          "text": [
            "10\n"
          ]
        }
      ]
    },
    {
      "cell_type": "code",
      "source": [
        "#floating point\n",
        "height_mehreen=5.7 #flaoting point integer\n",
        "weight_mehreen=60.5\n",
        "bmi=weight_mehreen/height_mehreen**2\n",
        "print(bmi)"
      ],
      "metadata": {
        "colab": {
          "base_uri": "https://localhost:8080/"
        },
        "id": "SDXn0DO7sj6k",
        "outputId": "b5604a3b-9545-40e9-edab-289aa54387b0"
      },
      "execution_count": null,
      "outputs": [
        {
          "output_type": "stream",
          "name": "stdout",
          "text": [
            "1.8621114188981225\n"
          ]
        }
      ]
    },
    {
      "cell_type": "code",
      "source": [
        "print(type(bmi))"
      ],
      "metadata": {
        "colab": {
          "base_uri": "https://localhost:8080/"
        },
        "id": "1ol8ogYGtTmu",
        "outputId": "adee0e22-15ad-46e6-a64e-7f9d1b4f8859"
      },
      "execution_count": null,
      "outputs": [
        {
          "output_type": "stream",
          "name": "stdout",
          "text": [
            "<class 'float'>\n"
          ]
        }
      ]
    },
    {
      "cell_type": "code",
      "source": [
        "#currency exchange financial caluclation\n",
        "usd_amount=100.0\n",
        "exchange_rate=0.85\n",
        "eur_amount=usd_amount*exchange_rate\n",
        "print(eur_amount)\n",
        "print(f\"equivalent in EUR: {eur_amount: .2f}\") #format to 2 decimal places"
      ],
      "metadata": {
        "colab": {
          "base_uri": "https://localhost:8080/"
        },
        "id": "c4vCFUhwtWvx",
        "outputId": "d73f0a44-8e9b-4a0a-bd16-1821c8ba482a"
      },
      "execution_count": null,
      "outputs": [
        {
          "output_type": "stream",
          "name": "stdout",
          "text": [
            "85.0\n",
            "equivalent in EUR:  85.00\n"
          ]
        }
      ]
    },
    {
      "cell_type": "code",
      "source": [
        "#image processing #rgb to gray scale\n",
        "pixel_red=0.3\n",
        "pixel_green=0.6\n",
        "pixel_blue=0.1\n",
        "gray_scale=pixel_red*0.299+pixel_green*0.587+pixel_blue*0.114\n",
        "print(gray_scale)\n"
      ],
      "metadata": {
        "colab": {
          "base_uri": "https://localhost:8080/"
        },
        "id": "eKLAT3L4ugzK",
        "outputId": "3e7ce130-3832-4227-c7a0-6b5c953ae17a"
      },
      "execution_count": null,
      "outputs": [
        {
          "output_type": "stream",
          "name": "stdout",
          "text": [
            "0.4533\n"
          ]
        }
      ]
    },
    {
      "cell_type": "code",
      "source": [
        "#normalisation( float point to scale[0-1])-min-max scaling , scandard scaler #contribute equally to ML predicitve modelling\n",
        "orig_value=85\n",
        "min_value=80\n",
        "max_value=100\n",
        "norm_value=(orig_value-min_value)/(max_value-min_value)\n",
        "print(f\" scaled_value: {norm_value}\")"
      ],
      "metadata": {
        "colab": {
          "base_uri": "https://localhost:8080/"
        },
        "id": "KeCwSIfvwFKM",
        "outputId": "cccb74d2-fedd-4fac-869c-2b0f765afcd5"
      },
      "execution_count": null,
      "outputs": [
        {
          "output_type": "stream",
          "name": "stdout",
          "text": [
            " scaled_value: 0.25\n"
          ]
        }
      ]
    },
    {
      "cell_type": "code",
      "source": [
        "#complex number representtion\n",
        "a=3+4j\n",
        "b=2+3j\n",
        "z=a+b\n",
        "print(z)\n",
        "\n",
        "print(type(z))"
      ],
      "metadata": {
        "colab": {
          "base_uri": "https://localhost:8080/"
        },
        "id": "vApgelzWwtu9",
        "outputId": "657011c1-573d-4544-cdfd-87ba4f46ec15"
      },
      "execution_count": null,
      "outputs": [
        {
          "output_type": "stream",
          "name": "stdout",
          "text": [
            "(5+7j)\n",
            "<class 'complex'>\n"
          ]
        }
      ]
    },
    {
      "cell_type": "markdown",
      "source": [
        "text-summary\n",
        "\n",
        "code-- execution\n",
        "\n",
        "visulisation of the result\n",
        "\n",
        "couple all the things -- ipynb  offer all 3 things in one frame"
      ],
      "metadata": {
        "id": "QjJxhFSsyCas"
      }
    },
    {
      "cell_type": "code",
      "source": [],
      "metadata": {
        "id": "-yZjLWWFyE_8"
      },
      "execution_count": null,
      "outputs": []
    },
    {
      "cell_type": "markdown",
      "source": [
        "List- data type opoerations\n"
      ],
      "metadata": {
        "id": "HrYcTfr34xt0"
      }
    },
    {
      "cell_type": "code",
      "source": [
        "list_1=[1,2,3,4,5,6,7]\n",
        "print(list_1)  #baisc initialization of list using [ ]"
      ],
      "metadata": {
        "colab": {
          "base_uri": "https://localhost:8080/"
        },
        "id": "dAd10Ylm401h",
        "outputId": "ae263d1f-da57-4eb9-c341-b78e1a294743"
      },
      "execution_count": null,
      "outputs": [
        {
          "output_type": "stream",
          "name": "stdout",
          "text": [
            "[1, 2, 3, 4, 5, 6, 7]\n"
          ]
        }
      ]
    },
    {
      "cell_type": "code",
      "source": [
        "#ordered #lemem access the first element\n",
        "print(list_1[0]) #gaurantees that list elements are ordered naturally"
      ],
      "metadata": {
        "colab": {
          "base_uri": "https://localhost:8080/"
        },
        "id": "5wrdVa9U47DN",
        "outputId": "04f6e2c7-f9b6-4dc5-b1a7-9d9a33df453e"
      },
      "execution_count": null,
      "outputs": [
        {
          "output_type": "stream",
          "name": "stdout",
          "text": [
            "1\n"
          ]
        }
      ]
    },
    {
      "cell_type": "code",
      "source": [
        "print(list_1[1])"
      ],
      "metadata": {
        "colab": {
          "base_uri": "https://localhost:8080/"
        },
        "id": "ODAi3So25Rpw",
        "outputId": "65131102-0cb4-450b-968e-75c24fd44148"
      },
      "execution_count": null,
      "outputs": [
        {
          "output_type": "stream",
          "name": "stdout",
          "text": [
            "2\n"
          ]
        }
      ]
    },
    {
      "cell_type": "code",
      "source": [
        "#mutability of lists\n",
        "list_x=[90 , 91 , 92 , 93, 94]\n",
        "#modify the second element\n",
        "list_x[1]=100\n",
        "print(list_x)"
      ],
      "metadata": {
        "colab": {
          "base_uri": "https://localhost:8080/"
        },
        "id": "rU28zt-j5b7K",
        "outputId": "ce7db542-8fda-4c41-fe28-e27ee37487a0"
      },
      "execution_count": null,
      "outputs": [
        {
          "output_type": "stream",
          "name": "stdout",
          "text": [
            "[90, 100, 92, 93, 94]\n"
          ]
        }
      ]
    },
    {
      "cell_type": "code",
      "source": [
        "#dymnamic in nature\n",
        "list_x.append(200) #functrion to add an element at the last of list\n",
        "print(list_x)"
      ],
      "metadata": {
        "colab": {
          "base_uri": "https://localhost:8080/"
        },
        "id": "QWQ9KTx56Ddn",
        "outputId": "7512fd1c-e99a-48b0-b6f8-ed53409ff85b"
      },
      "execution_count": null,
      "outputs": [
        {
          "output_type": "stream",
          "name": "stdout",
          "text": [
            "[90, 100, 92, 93, 94, 200]\n"
          ]
        }
      ]
    },
    {
      "cell_type": "code",
      "source": [
        "#heteregenous poroperty of list\n",
        "list_y=[1,2,3,5.7,\"mehreen\",5+6j,[99,101,111]] #allows the different data type to be addeed into the list\n",
        "print(list_y)"
      ],
      "metadata": {
        "colab": {
          "base_uri": "https://localhost:8080/"
        },
        "id": "0WPugc-96R9g",
        "outputId": "8050e001-3125-4ae0-f9df-741b93987043"
      },
      "execution_count": null,
      "outputs": [
        {
          "output_type": "stream",
          "name": "stdout",
          "text": [
            "[1, 2, 3, 5.7, 'mehreen', (5+6j), [99, 101, 111]]\n"
          ]
        }
      ]
    },
    {
      "cell_type": "code",
      "source": [
        "#list allow duplate as well ...'\n",
        "list_1=[1,2,2,3,3,4]\n",
        "print(list_1)"
      ],
      "metadata": {
        "id": "A324MWR36o9s",
        "colab": {
          "base_uri": "https://localhost:8080/"
        },
        "outputId": "357db122-e678-4863-a2d6-fc011f7fcbf9"
      },
      "execution_count": 2,
      "outputs": [
        {
          "output_type": "stream",
          "name": "stdout",
          "text": [
            "[1, 2, 2, 3, 3, 4]\n"
          ]
        }
      ]
    },
    {
      "cell_type": "markdown",
      "source": [],
      "metadata": {
        "id": "S0NbrKgg5_vp"
      }
    },
    {
      "cell_type": "code",
      "source": [
        "#2 dimensional\n",
        "list_a=[[1,2,3],[4,5,6,],[7,8,9]]\n",
        "print(list_a[2][1])"
      ],
      "metadata": {
        "colab": {
          "base_uri": "https://localhost:8080/"
        },
        "id": "wFetkLBF5o6b",
        "outputId": "ca3a0604-1a4d-4f11-b13f-52cd6769f2ff"
      },
      "execution_count": 3,
      "outputs": [
        {
          "output_type": "stream",
          "name": "stdout",
          "text": [
            "8\n"
          ]
        }
      ]
    },
    {
      "cell_type": "code",
      "source": [
        "#slicing in the list [portion of pizza]\n",
        "list_y=[1,2,3,4,5,6,7,8,9] #3,4,5,6\n",
        "print(list_y[2:7])"
      ],
      "metadata": {
        "colab": {
          "base_uri": "https://localhost:8080/"
        },
        "id": "SgP5dZLp6QY8",
        "outputId": "8d929b11-a4b0-4790-82bc-b9ca12fe4b52"
      },
      "execution_count": 4,
      "outputs": [
        {
          "output_type": "stream",
          "name": "stdout",
          "text": [
            "[3, 4, 5, 6, 7]\n"
          ]
        }
      ]
    },
    {
      "cell_type": "code",
      "source": [
        "list_z=[1,2,3,4,5,6,7,8,9,10] #even numbers #slicing\n",
        "print(list_z[1:10:2]) #start:end:step"
      ],
      "metadata": {
        "colab": {
          "base_uri": "https://localhost:8080/"
        },
        "id": "tKI_tgsv6z7s",
        "outputId": "e4cc18bd-79bd-46a7-bd31-358a34093535"
      },
      "execution_count": 6,
      "outputs": [
        {
          "output_type": "stream",
          "name": "stdout",
          "text": [
            "[2, 4, 6, 8, 10]\n"
          ]
        }
      ]
    },
    {
      "cell_type": "code",
      "source": [
        "list_z=[1,2,3,4,5,6,7,8,9,10] #even numbers #slicing\n",
        "print(list_z[0:10:2]) #start:end:step #odd values"
      ],
      "metadata": {
        "colab": {
          "base_uri": "https://localhost:8080/"
        },
        "id": "1B1_LspO7imO",
        "outputId": "5138e10a-9fc5-4a61-e286-a83ca6d75b46"
      },
      "execution_count": 7,
      "outputs": [
        {
          "output_type": "stream",
          "name": "stdout",
          "text": [
            "[1, 3, 5, 7, 9]\n"
          ]
        }
      ]
    },
    {
      "cell_type": "code",
      "source": [
        "#access the 3 -dimensional arrays\n",
        "list_3d=[[[1,2,3],[4,5,6],[7,8,9],[10,11,12]]]\n",
        "print(list_3d[0][3][1])"
      ],
      "metadata": {
        "colab": {
          "base_uri": "https://localhost:8080/"
        },
        "id": "RenGDRgA7sOI",
        "outputId": "2090fbbc-2ec9-4954-f69c-5a444b180d45"
      },
      "execution_count": 9,
      "outputs": [
        {
          "output_type": "stream",
          "name": "stdout",
          "text": [
            "11\n"
          ]
        }
      ]
    },
    {
      "cell_type": "code",
      "source": [
        "#mmeebership function #either the 2d list exist as an element or not\n",
        "print([[1,2,3],[4,5,6],[7,8,9],[10,11,12]] in list_3d)\n",
        "print(99 not in list_3d)"
      ],
      "metadata": {
        "colab": {
          "base_uri": "https://localhost:8080/"
        },
        "id": "6d9x7Phx8n2u",
        "outputId": "9d9e6104-3e90-4d30-8a1b-e91f50346307"
      },
      "execution_count": 21,
      "outputs": [
        {
          "output_type": "stream",
          "name": "stdout",
          "text": [
            "True\n",
            "True\n"
          ]
        }
      ]
    },
    {
      "cell_type": "code",
      "source": [
        "x=[1,2,3,4] #1d list\n",
        "print(3 in x)"
      ],
      "metadata": {
        "colab": {
          "base_uri": "https://localhost:8080/"
        },
        "id": "_L1JGduX9RNk",
        "outputId": "3863ea78-480e-4465-fb50-7b24ff154a29"
      },
      "execution_count": 23,
      "outputs": [
        {
          "output_type": "stream",
          "name": "stdout",
          "text": [
            "True\n"
          ]
        }
      ]
    },
    {
      "cell_type": "code",
      "source": [
        "x.insert(2,99) #by using indexing\n",
        "print(x)"
      ],
      "metadata": {
        "colab": {
          "base_uri": "https://localhost:8080/"
        },
        "id": "2SdFdVlp-oLo",
        "outputId": "87944a64-37d2-4892-f31b-254626d4ede4"
      },
      "execution_count": 24,
      "outputs": [
        {
          "output_type": "stream",
          "name": "stdout",
          "text": [
            "[1, 2, 99, 3, 4]\n"
          ]
        }
      ]
    },
    {
      "cell_type": "code",
      "source": [
        "x.remove(99)\n",
        "print(x)"
      ],
      "metadata": {
        "colab": {
          "base_uri": "https://localhost:8080/"
        },
        "id": "PqhK-xor_DKP",
        "outputId": "8208de42-4bd0-40ea-9b15-3192239f7c8b"
      },
      "execution_count": 25,
      "outputs": [
        {
          "output_type": "stream",
          "name": "stdout",
          "text": [
            "[1, 2, 3, 4]\n"
          ]
        }
      ]
    },
    {
      "cell_type": "code",
      "source": [
        "x.reverse()\n",
        "print(x)"
      ],
      "metadata": {
        "colab": {
          "base_uri": "https://localhost:8080/"
        },
        "id": "82tjIJVe_LjB",
        "outputId": "6fb383c7-09cc-4e5e-d87d-e428e86f291e"
      },
      "execution_count": 26,
      "outputs": [
        {
          "output_type": "stream",
          "name": "stdout",
          "text": [
            "[4, 3, 2, 1]\n"
          ]
        }
      ]
    },
    {
      "cell_type": "code",
      "source": [
        "#list comprehension #square the numbers\n",
        "numbers=[1,2,3,4,5,6,7]\n",
        "squared=[i**2 for i in numbers]\n",
        "print(squared)"
      ],
      "metadata": {
        "colab": {
          "base_uri": "https://localhost:8080/"
        },
        "id": "YwYF8Wtl_TND",
        "outputId": "cc3da03e-acb9-43b9-89d2-d5985a695214"
      },
      "execution_count": 30,
      "outputs": [
        {
          "output_type": "stream",
          "name": "stdout",
          "text": [
            "[1, 4, 9, 16, 25, 36, 49]\n"
          ]
        }
      ]
    },
    {
      "cell_type": "code",
      "source": [
        "print(len(squared))"
      ],
      "metadata": {
        "colab": {
          "base_uri": "https://localhost:8080/"
        },
        "id": "0sjIOKYEASrI",
        "outputId": "0aa6ffba-b0d5-4579-fbc8-a96093a263b0"
      },
      "execution_count": 31,
      "outputs": [
        {
          "output_type": "stream",
          "name": "stdout",
          "text": [
            "7\n"
          ]
        }
      ]
    },
    {
      "cell_type": "code",
      "source": [
        "my_list=[4,5,6,7,87,8]\n",
        "for i in my_list:\n",
        "  print(i)"
      ],
      "metadata": {
        "colab": {
          "base_uri": "https://localhost:8080/"
        },
        "id": "Tbxinx5kAb_L",
        "outputId": "735ddc8c-4fce-4a0a-c68f-721ca4fc64ae"
      },
      "execution_count": 32,
      "outputs": [
        {
          "output_type": "stream",
          "name": "stdout",
          "text": [
            "4\n",
            "5\n",
            "6\n",
            "7\n",
            "87\n",
            "8\n"
          ]
        }
      ]
    },
    {
      "cell_type": "code",
      "source": [
        "fruit_basket=[\"apple\",\"banana\",\"cherry\"]\n",
        "for index in range(len(fruit_basket)):\n",
        "  print(f\"Index{index}:  fruit:{fruit_basket[index]}\")"
      ],
      "metadata": {
        "colab": {
          "base_uri": "https://localhost:8080/"
        },
        "id": "Hhpb6anmAj2R",
        "outputId": "045f4d6d-12b1-498f-d98f-f33a47161af6"
      },
      "execution_count": 34,
      "outputs": [
        {
          "output_type": "stream",
          "name": "stdout",
          "text": [
            "Index0:  fruit:apple\n",
            "Index1:  fruit:banana\n",
            "Index2:  fruit:cherry\n"
          ]
        }
      ]
    },
    {
      "cell_type": "code",
      "source": [
        "#enumeration in lists\n",
        "animal_list=[\"cat\",\"dog\",\"elephant\"]\n",
        "for index,i in enumerate(animal_list,start=1):\n",
        "  print(f\"Index{index}:  animal:{i}\")"
      ],
      "metadata": {
        "colab": {
          "base_uri": "https://localhost:8080/"
        },
        "id": "ZmlwDbdPBHdP",
        "outputId": "33f714e5-ff59-4970-feb3-b7b5b354c62e"
      },
      "execution_count": 38,
      "outputs": [
        {
          "output_type": "stream",
          "name": "stdout",
          "text": [
            "Index1:  animal:cat\n",
            "Index2:  animal:dog\n",
            "Index3:  animal:elephant\n"
          ]
        }
      ]
    },
    {
      "cell_type": "code",
      "source": [
        "#filter out elements in list\n",
        "list_c=[1,2,3,4,5,6,7,8,9,10]\n",
        "for i in list_c:\n",
        "  if i%2==0: #even numbers\n",
        "    print(i)"
      ],
      "metadata": {
        "colab": {
          "base_uri": "https://localhost:8080/"
        },
        "id": "CCrJdF4VCLxT",
        "outputId": "81fbfd44-a03e-43ef-fedf-e6b485cdfc5c"
      },
      "execution_count": 39,
      "outputs": [
        {
          "output_type": "stream",
          "name": "stdout",
          "text": [
            "2\n",
            "4\n",
            "6\n",
            "8\n",
            "10\n"
          ]
        }
      ]
    },
    {
      "cell_type": "code",
      "source": [
        "list_c=[1,2,3,4,5,6,7,8,9,10]\n",
        "squared_list=[]\n",
        "for i in list_c:\n",
        "  squared_list.append(i**2)\n",
        "print(squared_list)"
      ],
      "metadata": {
        "colab": {
          "base_uri": "https://localhost:8080/"
        },
        "id": "Z_4MSJodCnfz",
        "outputId": "401671d1-b35b-40ab-96d0-878edb5be449"
      },
      "execution_count": 41,
      "outputs": [
        {
          "output_type": "stream",
          "name": "stdout",
          "text": [
            "[1, 4, 9, 16, 25, 36, 49, 64, 81, 100]\n"
          ]
        }
      ]
    },
    {
      "cell_type": "code",
      "source": [
        "#repeat the chacracter of list\n",
        "list=[\"mehreen\"]\n",
        "repeated_list=[i*4 for i in list]\n",
        "print(repeated_list)"
      ],
      "metadata": {
        "colab": {
          "base_uri": "https://localhost:8080/"
        },
        "id": "jK58Y9w4DH-K",
        "outputId": "29d38c26-b669-4498-82fb-992ca15e9007"
      },
      "execution_count": 43,
      "outputs": [
        {
          "output_type": "stream",
          "name": "stdout",
          "text": [
            "['mehreenmehreenmehreenmehreen']\n"
          ]
        }
      ]
    },
    {
      "cell_type": "code",
      "source": [
        "word=\"racecar\"\n",
        "if word==word[::-1]: #mirroring, checking the reverse string\n",
        "  print(True)\n",
        "else:\n",
        "  print(False)"
      ],
      "metadata": {
        "colab": {
          "base_uri": "https://localhost:8080/"
        },
        "id": "9oizHKVnEHgp",
        "outputId": "1654ad10-0325-4e16-bbca-5f03fa76fef1"
      },
      "execution_count": 46,
      "outputs": [
        {
          "output_type": "stream",
          "name": "stdout",
          "text": [
            "True\n"
          ]
        }
      ]
    },
    {
      "cell_type": "code",
      "source": [
        "def is_palindrome(word): #function is defined\n",
        "  return word==word[::-1] #logic\n",
        "word=\"mom\"\n",
        "if is_palindrome(word): #function called\n",
        "  print(f\"{word} is a palindrome\")\n",
        "else:\n",
        "  print(f\"{word} is not a palindrome\")"
      ],
      "metadata": {
        "colab": {
          "base_uri": "https://localhost:8080/"
        },
        "id": "F17kkupJEHup",
        "outputId": "f6d41afa-2efb-4429-8879-93afa6e3d3eb"
      },
      "execution_count": 49,
      "outputs": [
        {
          "output_type": "stream",
          "name": "stdout",
          "text": [
            "mom is a palindrome\n"
          ]
        }
      ]
    },
    {
      "cell_type": "code",
      "source": [
        "#creation of tuple\n",
        "tup_1=(1,2,3,4,5)\n",
        "print(tup_1)"
      ],
      "metadata": {
        "colab": {
          "base_uri": "https://localhost:8080/"
        },
        "id": "2nA5_72HDK1s",
        "outputId": "2cad7289-a72a-4cdd-92a3-c4b49dedbaa2"
      },
      "execution_count": 50,
      "outputs": [
        {
          "output_type": "stream",
          "name": "stdout",
          "text": [
            "(1, 2, 3, 4, 5)\n"
          ]
        }
      ]
    },
    {
      "cell_type": "code",
      "source": [
        "#duplicaation in tuple\n",
        "tup_x=(1,2,3,4,5,555,5,5,5)\n",
        "print(tup_x)"
      ],
      "metadata": {
        "colab": {
          "base_uri": "https://localhost:8080/"
        },
        "id": "tMt0PBAeGJYR",
        "outputId": "cef7f3ab-ebb4-449b-b4d6-ca676919d861"
      },
      "execution_count": 52,
      "outputs": [
        {
          "output_type": "stream",
          "name": "stdout",
          "text": [
            "(1, 2, 3, 4, 5, 555, 5, 5, 5)\n"
          ]
        }
      ]
    },
    {
      "cell_type": "code",
      "source": [
        "#immutabiulity(change/modify the elemnts in tup) #item assiignmemnt is not allowws\n",
        "tup_x[5]=100\n",
        "print(tup_x) #doesnt offer immutabiluty"
      ],
      "metadata": {
        "colab": {
          "base_uri": "https://localhost:8080/",
          "height": 176
        },
        "id": "Btatl_WNGOxj",
        "outputId": "4682f2a8-73fc-4e97-9b44-a2aea89b8d4f"
      },
      "execution_count": 53,
      "outputs": [
        {
          "output_type": "error",
          "ename": "TypeError",
          "evalue": "'tuple' object does not support item assignment",
          "traceback": [
            "\u001b[0;31m---------------------------------------------------------------------------\u001b[0m",
            "\u001b[0;31mTypeError\u001b[0m                                 Traceback (most recent call last)",
            "\u001b[0;32m<ipython-input-53-cc83fcdc6f28>\u001b[0m in \u001b[0;36m<cell line: 0>\u001b[0;34m()\u001b[0m\n\u001b[1;32m      1\u001b[0m \u001b[0;31m#immutabiulity(change/modify the elemnts in tup) #item assiignmemnt is not allowws\u001b[0m\u001b[0;34m\u001b[0m\u001b[0;34m\u001b[0m\u001b[0m\n\u001b[0;32m----> 2\u001b[0;31m \u001b[0mtup_x\u001b[0m\u001b[0;34m[\u001b[0m\u001b[0;36m5\u001b[0m\u001b[0;34m]\u001b[0m\u001b[0;34m=\u001b[0m\u001b[0;36m100\u001b[0m\u001b[0;34m\u001b[0m\u001b[0;34m\u001b[0m\u001b[0m\n\u001b[0m\u001b[1;32m      3\u001b[0m \u001b[0mprint\u001b[0m\u001b[0;34m(\u001b[0m\u001b[0mtup_x\u001b[0m\u001b[0;34m)\u001b[0m \u001b[0;31m#doesnt offer immutabiluty\u001b[0m\u001b[0;34m\u001b[0m\u001b[0;34m\u001b[0m\u001b[0m\n",
            "\u001b[0;31mTypeError\u001b[0m: 'tuple' object does not support item assignment"
          ]
        }
      ]
    },
    {
      "cell_type": "code",
      "source": [],
      "metadata": {
        "id": "KXBZ2A7FGjFm"
      },
      "execution_count": null,
      "outputs": []
    }
  ]
}