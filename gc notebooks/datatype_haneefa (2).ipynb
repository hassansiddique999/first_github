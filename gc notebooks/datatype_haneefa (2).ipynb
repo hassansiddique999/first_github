{
  "nbformat": 4,
  "nbformat_minor": 0,
  "metadata": {
    "colab": {
      "provenance": []
    },
    "kernelspec": {
      "name": "python3",
      "display_name": "Python 3"
    },
    "language_info": {
      "name": "python"
    }
  },
  "cells": [
    {
      "cell_type": "code",
      "execution_count": null,
      "metadata": {
        "id": "12qN2aBfcb_y"
      },
      "outputs": [],
      "source": []
    },
    {
      "cell_type": "markdown",
      "source": [
        "integers: represenattion is in nwhole numbers [0-9]"
      ],
      "metadata": {
        "id": "Xse9QWKNcgXy"
      }
    },
    {
      "cell_type": "code",
      "source": [
        "x=10\n",
        "y=20\n",
        "z=30 #data type is  integer for4mat\n",
        "print( x, y , z)\n"
      ],
      "metadata": {
        "colab": {
          "base_uri": "https://localhost:8080/"
        },
        "id": "lmavrKK7ck4h",
        "outputId": "d5b5d4a5-f9b0-4bc4-b9aa-9b828bab573f"
      },
      "execution_count": null,
      "outputs": [
        {
          "output_type": "stream",
          "name": "stdout",
          "text": [
            "10 20 30\n"
          ]
        }
      ]
    },
    {
      "cell_type": "code",
      "source": [
        "a=-10\n",
        "b=0\n",
        "c=-33\n",
        "print(a,b,c)"
      ],
      "metadata": {
        "colab": {
          "base_uri": "https://localhost:8080/"
        },
        "id": "3ClJjoLLcsnd",
        "outputId": "3f042bd2-bf66-47eb-9af2-d3b358130e54"
      },
      "execution_count": null,
      "outputs": [
        {
          "output_type": "stream",
          "name": "stdout",
          "text": [
            "-10 0 -33\n"
          ]
        }
      ]
    },
    {
      "cell_type": "markdown",
      "source": [
        "operations of integers\n"
      ],
      "metadata": {
        "id": "MNVGE1wXdVUw"
      }
    },
    {
      "cell_type": "code",
      "source": [
        "total_students=100\n",
        "passed_students=40\n",
        "failed_students=total_students-passed_students #substraction - operator\n",
        "print(failed_students)"
      ],
      "metadata": {
        "colab": {
          "base_uri": "https://localhost:8080/"
        },
        "id": "IU4fM42AdUMj",
        "outputId": "a6867e47-248d-4285-cdf6-9f4caf641c22"
      },
      "execution_count": null,
      "outputs": [
        {
          "output_type": "stream",
          "name": "stdout",
          "text": [
            "60\n"
          ]
        }
      ]
    },
    {
      "cell_type": "code",
      "source": [
        "s=34\n",
        "t=4\n",
        "u=s*t #multiplication * operator\n",
        "print(u)"
      ],
      "metadata": {
        "colab": {
          "base_uri": "https://localhost:8080/"
        },
        "id": "y4T4XUyVdnQ4",
        "outputId": "300ee0aa-2a3a-4330-d3f6-f9a2b2467c63"
      },
      "execution_count": null,
      "outputs": [
        {
          "output_type": "stream",
          "name": "stdout",
          "text": [
            "136\n"
          ]
        }
      ]
    },
    {
      "cell_type": "code",
      "source": [
        "#float data type -- represented in decimal point floating point(10.6,11.3)\n",
        "height=5.7\n",
        "weight=34.6\n",
        "bmi=weight/height**2\n",
        "print(bmi)"
      ],
      "metadata": {
        "colab": {
          "base_uri": "https://localhost:8080/"
        },
        "id": "so4sW79Cdrxb",
        "outputId": "5a24e616-ff99-475e-d6ed-55a12a5c51b7"
      },
      "execution_count": null,
      "outputs": [
        {
          "output_type": "stream",
          "name": "stdout",
          "text": [
            "1.0649430594028932\n"
          ]
        }
      ]
    },
    {
      "cell_type": "code",
      "source": [
        "#area of a circle pi*r^2\n",
        "r=5.7 #floting point int\n",
        "area=3.14*r**2\n",
        "print(area)"
      ],
      "metadata": {
        "colab": {
          "base_uri": "https://localhost:8080/"
        },
        "id": "4FTPpwJJd9Sw",
        "outputId": "9f1ca45e-53aa-4524-f33b-2184cb5bfc0a"
      },
      "execution_count": null,
      "outputs": [
        {
          "output_type": "stream",
          "name": "stdout",
          "text": [
            "102.0186\n"
          ]
        }
      ]
    },
    {
      "cell_type": "code",
      "source": [
        "print(type(area))"
      ],
      "metadata": {
        "colab": {
          "base_uri": "https://localhost:8080/"
        },
        "id": "9KGbMn7DeMID",
        "outputId": "fe7fd64d-028e-40e0-aed7-81cfba8f771f"
      },
      "execution_count": null,
      "outputs": [
        {
          "output_type": "stream",
          "name": "stdout",
          "text": [
            "<class 'float'>\n"
          ]
        }
      ]
    },
    {
      "cell_type": "code",
      "source": [
        "x=10.3\n",
        "print(x)\n",
        "print(type(x))"
      ],
      "metadata": {
        "colab": {
          "base_uri": "https://localhost:8080/"
        },
        "id": "4e1HQcKoeRIF",
        "outputId": "5834f659-6e86-40d9-cae0-f9ab2c072624"
      },
      "execution_count": null,
      "outputs": [
        {
          "output_type": "stream",
          "name": "stdout",
          "text": [
            "10.3\n",
            "<class 'float'>\n"
          ]
        }
      ]
    },
    {
      "cell_type": "code",
      "source": [
        "#complex number a+bi\n",
        "x= 3+4j\n",
        "print(x)\n",
        "print(type(x))"
      ],
      "metadata": {
        "colab": {
          "base_uri": "https://localhost:8080/"
        },
        "id": "axAxZ3g7ekfl",
        "outputId": "f8981bf8-2be4-465f-e214-bd0e0b6d622c"
      },
      "execution_count": null,
      "outputs": [
        {
          "output_type": "stream",
          "name": "stdout",
          "text": [
            "(3+4j)\n",
            "<class 'complex'>\n"
          ]
        }
      ]
    },
    {
      "cell_type": "markdown",
      "source": [
        "numeric data type is often used in add, mul , sub , div, expo, floor division  and bitwise operation"
      ],
      "metadata": {
        "id": "2pEptMC2fkyj"
      }
    },
    {
      "cell_type": "code",
      "source": [
        "#containere data type str4ings\n",
        "#strings- set of charcters in single/double characters\n",
        "\n",
        "name=\"haneefa qayuum\"\n",
        "print(name)\n",
        "print(type(name))"
      ],
      "metadata": {
        "colab": {
          "base_uri": "https://localhost:8080/"
        },
        "id": "rdt32iuJfVvu",
        "outputId": "c4724485-dbab-45a3-ec3b-f2357a18f648"
      },
      "execution_count": null,
      "outputs": [
        {
          "output_type": "stream",
          "name": "stdout",
          "text": [
            "haneefa qayuum\n",
            "<class 'str'>\n"
          ]
        }
      ]
    },
    {
      "cell_type": "code",
      "source": [
        "my_string = \"this is a string\" #string creation\n",
        "print(my_string)"
      ],
      "metadata": {
        "colab": {
          "base_uri": "https://localhost:8080/"
        },
        "id": "FNW_yO2egCq_",
        "outputId": "f577ee5c-f18a-47f9-959b-ec02e754e1b8"
      },
      "execution_count": null,
      "outputs": [
        {
          "output_type": "stream",
          "name": "stdout",
          "text": [
            "this is a string\n"
          ]
        }
      ]
    },
    {
      "cell_type": "code",
      "source": [
        "x= \"python progamming\"\n",
        "#access the aplhabaet in string\n",
        "print(x[0:6]) #positive indexing"
      ],
      "metadata": {
        "colab": {
          "base_uri": "https://localhost:8080/"
        },
        "id": "RRhL6YMsgO9O",
        "outputId": "cb91c52f-d3a4-4f56-dcfb-610d482ab70a"
      },
      "execution_count": null,
      "outputs": [
        {
          "output_type": "stream",
          "name": "stdout",
          "text": [
            "python\n"
          ]
        }
      ]
    },
    {
      "cell_type": "code",
      "source": [
        "print(x[-1]) #negative indexing"
      ],
      "metadata": {
        "colab": {
          "base_uri": "https://localhost:8080/"
        },
        "id": "X7W7CNrXggLx",
        "outputId": "6242c9ec-d336-49e9-eaa3-f6654eb019a6"
      },
      "execution_count": null,
      "outputs": [
        {
          "output_type": "stream",
          "name": "stdout",
          "text": [
            "g\n"
          ]
        }
      ]
    },
    {
      "cell_type": "code",
      "source": [
        "print(x[-2])"
      ],
      "metadata": {
        "colab": {
          "base_uri": "https://localhost:8080/"
        },
        "id": "YRfa71sLhqXr",
        "outputId": "e1aa84d6-9f2d-4622-a439-d7a6f0fc50b0"
      },
      "execution_count": null,
      "outputs": [
        {
          "output_type": "stream",
          "name": "stdout",
          "text": [
            "n\n"
          ]
        }
      ]
    },
    {
      "cell_type": "code",
      "source": [
        "#mirror this whole string #reverse\n",
        "print(x[::-1])"
      ],
      "metadata": {
        "colab": {
          "base_uri": "https://localhost:8080/"
        },
        "id": "t871_coWiCfp",
        "outputId": "11e683f3-5971-4a50-eb68-ee5e82be8e30"
      },
      "execution_count": null,
      "outputs": [
        {
          "output_type": "stream",
          "name": "stdout",
          "text": [
            "gnimmarorp nohtyp\n"
          ]
        }
      ]
    },
    {
      "cell_type": "code",
      "source": [
        "#slicing\n",
        "print(x[0:11])"
      ],
      "metadata": {
        "colab": {
          "base_uri": "https://localhost:8080/"
        },
        "id": "HwKOZm3UityJ",
        "outputId": "1e0be5ee-81da-4394-e4f4-ac8e4c0c44c7"
      },
      "execution_count": null,
      "outputs": [
        {
          "output_type": "stream",
          "name": "stdout",
          "text": [
            "python prog\n"
          ]
        }
      ]
    },
    {
      "cell_type": "code",
      "source": [
        "#string concatenation (merge two strings)\n",
        "str_1= \"haneefa\"\n",
        "str_2= \"qayyum\"\n",
        "str_3= str_1+str_2 #addition operator would eventually merge both strings\n",
        "print(str_3)"
      ],
      "metadata": {
        "colab": {
          "base_uri": "https://localhost:8080/"
        },
        "id": "_HLelowQjAEj",
        "outputId": "e4c9824c-c340-47c2-c658-464762bf3952"
      },
      "execution_count": null,
      "outputs": [
        {
          "output_type": "stream",
          "name": "stdout",
          "text": [
            "haneefaqayyum\n"
          ]
        }
      ]
    },
    {
      "cell_type": "code",
      "source": [
        "#string concatenation\n",
        "x='99'\n",
        "y='88'\n",
        "z=x+y #merge both x and y\n",
        "print(z)"
      ],
      "metadata": {
        "colab": {
          "base_uri": "https://localhost:8080/"
        },
        "id": "G6P-6t-ajRFk",
        "outputId": "e22a103a-4198-466a-876f-91ace33f301b"
      },
      "execution_count": null,
      "outputs": [
        {
          "output_type": "stream",
          "name": "stdout",
          "text": [
            "9988\n"
          ]
        }
      ]
    },
    {
      "cell_type": "code",
      "source": [
        "#string repetition\n",
        "b=str_1 *3 #repeat string 3 times\n",
        "print(b)\n"
      ],
      "metadata": {
        "colab": {
          "base_uri": "https://localhost:8080/"
        },
        "id": "QYL5PYSAjcLj",
        "outputId": "88af6aa7-0eac-45b8-d232-a82c06146f7c"
      },
      "execution_count": null,
      "outputs": [
        {
          "output_type": "stream",
          "name": "stdout",
          "text": [
            "haneefahaneefahaneefa\n"
          ]
        }
      ]
    },
    {
      "cell_type": "code",
      "source": [
        "#length of string\n",
        "x= \"python progamming\"\n",
        "print(len(x))"
      ],
      "metadata": {
        "colab": {
          "base_uri": "https://localhost:8080/"
        },
        "id": "vSLnzFnKj2jX",
        "outputId": "a799eb5f-9b1d-4183-837e-a0873a6e2bfb"
      },
      "execution_count": null,
      "outputs": [
        {
          "output_type": "stream",
          "name": "stdout",
          "text": [
            "17\n"
          ]
        }
      ]
    },
    {
      "cell_type": "code",
      "source": [
        "#string methods\n",
        "k=\"   haneefa qayyum\"\n",
        "print(k.upper()) #converet the string to upper case\n",
        "print(k.lower()) #convert string to lower case\n",
        "print(k.capitalize()) #the first word\n",
        "print(k.title()) #convert the first alphabet of each word\n",
        "print(k.swapcase()) #convert the upper to lower and vice versa\n",
        "print(k.strip()) #remove the white spaces\n"
      ],
      "metadata": {
        "colab": {
          "base_uri": "https://localhost:8080/"
        },
        "id": "WUk8QFarkJfO",
        "outputId": "2a14f457-a797-43d9-9afb-949b1de1c3d3"
      },
      "execution_count": null,
      "outputs": [
        {
          "output_type": "stream",
          "name": "stdout",
          "text": [
            "   HANEEFA QAYYUM\n",
            "   haneefa qayyum\n",
            "   haneefa qayyum\n",
            "   Haneefa Qayyum\n",
            "   HANEEFA QAYYUM\n",
            "haneefa qayyum\n"
          ]
        }
      ]
    },
    {
      "cell_type": "code",
      "source": [
        "#string formatting - f string\n",
        "name=\"alice\"\n",
        "age=30\n",
        "f\"hello my name is {name} and i am {age} year old!!!!\""
      ],
      "metadata": {
        "colab": {
          "base_uri": "https://localhost:8080/",
          "height": 35
        },
        "id": "M_5rMDcPkPaU",
        "outputId": "cad3122b-1cb2-40cc-ccaf-0bba47b647ac"
      },
      "execution_count": null,
      "outputs": [
        {
          "output_type": "execute_result",
          "data": {
            "text/plain": [
              "'hello my name is alice and i am 30 year old!!!!'"
            ],
            "application/vnd.google.colaboratory.intrinsic+json": {
              "type": "string"
            }
          },
          "metadata": {},
          "execution_count": 37
        }
      ]
    },
    {
      "cell_type": "code",
      "source": [
        "#memebership function in strings (in)\n",
        "x= \"python programming\"\n",
        "print('p' in x)\n",
        "print('z' not in x)"
      ],
      "metadata": {
        "colab": {
          "base_uri": "https://localhost:8080/"
        },
        "id": "yY9BFTMFlqYG",
        "outputId": "647cdfbb-b5a5-4552-de25-d1de926c3625"
      },
      "execution_count": null,
      "outputs": [
        {
          "output_type": "stream",
          "name": "stdout",
          "text": [
            "True\n",
            "True\n"
          ]
        }
      ]
    },
    {
      "cell_type": "code",
      "source": [
        "#find the occurences of aplhabet in string\n",
        "count=x.count('p')\n",
        "print(count)"
      ],
      "metadata": {
        "colab": {
          "base_uri": "https://localhost:8080/"
        },
        "id": "3s6uQ_apl_7W",
        "outputId": "ff4fe305-3f45-46fc-c767-04a3fe1c3dde"
      },
      "execution_count": null,
      "outputs": [
        {
          "output_type": "stream",
          "name": "stdout",
          "text": [
            "2\n"
          ]
        }
      ]
    },
    {
      "cell_type": "code",
      "source": [
        "#slicing #u can acess some part/chunk of that list(/pizza)\n",
        "x=[3,4,5,6,7,8,9,10,11,12]\n",
        "print(x[1:2:9])"
      ],
      "metadata": {
        "id": "9MolWMhEmWxC",
        "colab": {
          "base_uri": "https://localhost:8080/"
        },
        "outputId": "ea8d5004-1cdc-4008-c44c-d3810eef4c1c"
      },
      "execution_count": null,
      "outputs": [
        {
          "output_type": "stream",
          "name": "stdout",
          "text": [
            "[4]\n"
          ]
        }
      ]
    },
    {
      "cell_type": "code",
      "source": [
        "x=[3,4,5,6,7,8,9,10,11,12]\n",
        "print(x[1:10:2])"
      ],
      "metadata": {
        "colab": {
          "base_uri": "https://localhost:8080/"
        },
        "id": "ir4uwCAJg07v",
        "outputId": "70b8c0f7-4b23-470a-96ba-94fe0112ce3a"
      },
      "execution_count": null,
      "outputs": [
        {
          "output_type": "stream",
          "name": "stdout",
          "text": [
            "[4, 6, 8, 10, 12]\n"
          ]
        }
      ]
    },
    {
      "cell_type": "code",
      "source": [
        "print(x[0:10:2])"
      ],
      "metadata": {
        "colab": {
          "base_uri": "https://localhost:8080/"
        },
        "id": "JIeOQyfRhYJO",
        "outputId": "224a6a74-6d42-477d-8055-84b9fe31c415"
      },
      "execution_count": null,
      "outputs": [
        {
          "output_type": "stream",
          "name": "stdout",
          "text": [
            "[3, 5, 7, 9, 11]\n"
          ]
        }
      ]
    },
    {
      "cell_type": "code",
      "source": [
        "x=[1,2,3,4,5] #1-dimensional\n",
        "y=[[1,2,3],[4,5,6],[7,8,9]] #2-dimensional\n",
        "z=[[[1,2,3],[4,5,6],[7,8,9]]] #3-dimensional\n",
        "print(x)\n",
        "print(y)"
      ],
      "metadata": {
        "id": "lWTi9E0ThmcF"
      },
      "execution_count": null,
      "outputs": []
    },
    {
      "cell_type": "code",
      "source": [
        "y=[[1,2,3],[4,5,6],[7,8,9]]\n",
        "print(y[1][2])"
      ],
      "metadata": {
        "colab": {
          "base_uri": "https://localhost:8080/"
        },
        "id": "H2NMXyy-h1yu",
        "outputId": "5ca7e2b3-82ec-4f10-bd19-110366dbc27d"
      },
      "execution_count": null,
      "outputs": [
        {
          "output_type": "stream",
          "name": "stdout",
          "text": [
            "6\n"
          ]
        }
      ]
    },
    {
      "cell_type": "code",
      "source": [
        "z=[[[1,2,3],[4,5,6],[7,8,9]]] #3-dimensional\n",
        "print(z[0][2][1])"
      ],
      "metadata": {
        "colab": {
          "base_uri": "https://localhost:8080/"
        },
        "id": "Zsqri8vwh895",
        "outputId": "3fb3d2d8-0ca5-4e5c-9d2e-7d469cd33949"
      },
      "execution_count": null,
      "outputs": [
        {
          "output_type": "stream",
          "name": "stdout",
          "text": [
            "8\n"
          ]
        }
      ]
    },
    {
      "cell_type": "code",
      "source": [
        "student=[[[\"hugh school\", 'junio sch'],[1000, 500],['B','G','R','Y']]] #3 dimensional list\n",
        "print(student[0][2][3])\n"
      ],
      "metadata": {
        "colab": {
          "base_uri": "https://localhost:8080/"
        },
        "id": "o_EvHluWmDcU",
        "outputId": "51aa8f45-fbc6-4d65-ca63-f7db6c86ef5a"
      },
      "execution_count": null,
      "outputs": [
        {
          "output_type": "stream",
          "name": "stdout",
          "text": [
            "Y\n"
          ]
        }
      ]
    },
    {
      "cell_type": "markdown",
      "source": [
        "tuples- another data type\n",
        "represented as  ( )"
      ],
      "metadata": {
        "id": "3SIO3HD5oXMm"
      }
    },
    {
      "cell_type": "code",
      "source": [
        "#create a tuple\n",
        "tup_z=(1,2,3,4,5) #round brackets\n",
        "\n",
        "#immutability charcteristioc of tuple #item assighmenmt is not allowed\n",
        "tup_z[3]=77\n",
        "print(tup_z)"
      ],
      "metadata": {
        "colab": {
          "base_uri": "https://localhost:8080/",
          "height": 193
        },
        "id": "ZI0FjzMum_ol",
        "outputId": "2d96c449-98eb-4ef5-e09f-3fbeff7d0269"
      },
      "execution_count": null,
      "outputs": [
        {
          "output_type": "error",
          "ename": "TypeError",
          "evalue": "'tuple' object does not support item assignment",
          "traceback": [
            "\u001b[0;31m---------------------------------------------------------------------------\u001b[0m",
            "\u001b[0;31mTypeError\u001b[0m                                 Traceback (most recent call last)",
            "\u001b[0;32m<ipython-input-22-616a088f9787>\u001b[0m in \u001b[0;36m<cell line: 0>\u001b[0;34m()\u001b[0m\n\u001b[1;32m      3\u001b[0m \u001b[0;34m\u001b[0m\u001b[0m\n\u001b[1;32m      4\u001b[0m \u001b[0;31m#immutability charcteristioc of tuple\u001b[0m\u001b[0;34m\u001b[0m\u001b[0;34m\u001b[0m\u001b[0m\n\u001b[0;32m----> 5\u001b[0;31m \u001b[0mtup_z\u001b[0m\u001b[0;34m[\u001b[0m\u001b[0;36m3\u001b[0m\u001b[0;34m]\u001b[0m\u001b[0;34m=\u001b[0m\u001b[0;36m77\u001b[0m\u001b[0;34m\u001b[0m\u001b[0;34m\u001b[0m\u001b[0m\n\u001b[0m\u001b[1;32m      6\u001b[0m \u001b[0mprint\u001b[0m\u001b[0;34m(\u001b[0m\u001b[0mtup_z\u001b[0m\u001b[0;34m)\u001b[0m\u001b[0;34m\u001b[0m\u001b[0;34m\u001b[0m\u001b[0m\n",
            "\u001b[0;31mTypeError\u001b[0m: 'tuple' object does not support item assignment"
          ]
        }
      ]
    },
    {
      "cell_type": "code",
      "source": [
        "tup_1=(12,13.5,\"haneefa\",3+4j)\n",
        "print(tup_1)"
      ],
      "metadata": {
        "colab": {
          "base_uri": "https://localhost:8080/"
        },
        "id": "RCdy1rfOP7Md",
        "outputId": "37f8b546-af93-4bf1-aa7c-76e442ea899a"
      },
      "execution_count": null,
      "outputs": [
        {
          "output_type": "stream",
          "name": "stdout",
          "text": [
            "(12, 13.5, 'haneefa', (3+4j))\n"
          ]
        }
      ]
    },
    {
      "cell_type": "code",
      "source": [
        "#immutability - we cannot modify the elements (no alteration , no changeability)\n",
        "tup_1[2]=\"qayyum\"\n",
        "print(tup_1)"
      ],
      "metadata": {
        "id": "XulL8bCbqcCa",
        "colab": {
          "base_uri": "https://localhost:8080/",
          "height": 176
        },
        "outputId": "886a218e-d3da-4e0c-c6c8-893278f8f726"
      },
      "execution_count": null,
      "outputs": [
        {
          "output_type": "error",
          "ename": "TypeError",
          "evalue": "'tuple' object does not support item assignment",
          "traceback": [
            "\u001b[0;31m---------------------------------------------------------------------------\u001b[0m",
            "\u001b[0;31mTypeError\u001b[0m                                 Traceback (most recent call last)",
            "\u001b[0;32m<ipython-input-3-b93d3e3a53f0>\u001b[0m in \u001b[0;36m<cell line: 0>\u001b[0;34m()\u001b[0m\n\u001b[1;32m      1\u001b[0m \u001b[0;31m#immutability - we cannot modify the elements\u001b[0m\u001b[0;34m\u001b[0m\u001b[0;34m\u001b[0m\u001b[0m\n\u001b[0;32m----> 2\u001b[0;31m \u001b[0mtup_1\u001b[0m\u001b[0;34m[\u001b[0m\u001b[0;36m2\u001b[0m\u001b[0;34m]\u001b[0m\u001b[0;34m=\u001b[0m\u001b[0;34m\"qayyum\"\u001b[0m\u001b[0;34m\u001b[0m\u001b[0;34m\u001b[0m\u001b[0m\n\u001b[0m\u001b[1;32m      3\u001b[0m \u001b[0mprint\u001b[0m\u001b[0;34m(\u001b[0m\u001b[0mtup_1\u001b[0m\u001b[0;34m)\u001b[0m\u001b[0;34m\u001b[0m\u001b[0;34m\u001b[0m\u001b[0m\n",
            "\u001b[0;31mTypeError\u001b[0m: 'tuple' object does not support item assignment"
          ]
        }
      ]
    },
    {
      "cell_type": "code",
      "source": [
        "#heterogeneous property of tuples\n",
        "tuple_=[11,12,13,\"nbanana\", \"apple\",\"orange\",13.5,14.6,16.7] #different data type can be entered insilde the tuple\n",
        "print(tuple_)"
      ],
      "metadata": {
        "colab": {
          "base_uri": "https://localhost:8080/"
        },
        "id": "9c_OLkj9QabW",
        "outputId": "68731390-045e-4ba6-a10a-88aa1aecc7e3"
      },
      "execution_count": null,
      "outputs": [
        {
          "output_type": "stream",
          "name": "stdout",
          "text": [
            "[11, 12, 13, 'nbanana', 'apple', 'orange', 13.5, 14.6, 16.7]\n"
          ]
        }
      ]
    },
    {
      "cell_type": "code",
      "source": [
        "#operations\n",
        "#empty tuple\n",
        "empty_tuple=()\n",
        "print(empty_tuple)"
      ],
      "metadata": {
        "colab": {
          "base_uri": "https://localhost:8080/"
        },
        "id": "VhhUxb9vQ7L3",
        "outputId": "9e2f0cc7-b33c-4ce4-86fe-1e1ef1680b70"
      },
      "execution_count": null,
      "outputs": [
        {
          "output_type": "stream",
          "name": "stdout",
          "text": [
            "()\n"
          ]
        }
      ]
    },
    {
      "cell_type": "code",
      "source": [
        "#single element tiuple\n",
        "single_tuple=(10,)\n",
        "print(single_tuple)"
      ],
      "metadata": {
        "colab": {
          "base_uri": "https://localhost:8080/"
        },
        "id": "cGHgc79NRIMe",
        "outputId": "b14724ba-fada-47f1-e10b-54734b0d505a"
      },
      "execution_count": null,
      "outputs": [
        {
          "output_type": "stream",
          "name": "stdout",
          "text": [
            "(10,)\n"
          ]
        }
      ]
    },
    {
      "cell_type": "code",
      "source": [
        "#multiple element tuple\n",
        "mul_tuple=(10, \"haneefa\", 44.5)\n",
        "print(mul_tuple)"
      ],
      "metadata": {
        "colab": {
          "base_uri": "https://localhost:8080/"
        },
        "id": "ss9UUx_pRTKu",
        "outputId": "612827b9-035d-4bdc-8dbd-cb6eeaa57b50"
      },
      "execution_count": null,
      "outputs": [
        {
          "output_type": "stream",
          "name": "stdout",
          "text": [
            "(10, 'haneefa', 44.5)\n"
          ]
        }
      ]
    },
    {
      "cell_type": "code",
      "source": [
        "#accesing (indexing)\n",
        "tuple_=(\"apple\", \"orange\", \"banana\", \"grapes\")\n",
        "print(tuple_[2])\n",
        "print(tuple_[-1])"
      ],
      "metadata": {
        "colab": {
          "base_uri": "https://localhost:8080/"
        },
        "id": "Y_Ag-DPNRaN-",
        "outputId": "83805781-4d9d-4d5c-eedb-6849acb9a32f"
      },
      "execution_count": null,
      "outputs": [
        {
          "output_type": "stream",
          "name": "stdout",
          "text": [
            "banana\n",
            "grapes\n"
          ]
        }
      ]
    },
    {
      "cell_type": "code",
      "source": [
        "tupx=(\"haneefa\")\n",
        "print(tupx[1])\n",
        "print(tupx[-1])\n",
        "print(tupx[-2])\n",
        "print(tupx[0])"
      ],
      "metadata": {
        "colab": {
          "base_uri": "https://localhost:8080/"
        },
        "id": "uN5btec2TvAx",
        "outputId": "8ab6b3eb-708b-41f0-dbac-505cd6125e18"
      },
      "execution_count": null,
      "outputs": [
        {
          "output_type": "stream",
          "name": "stdout",
          "text": [
            "a\n",
            "a\n",
            "f\n",
            "h\n"
          ]
        }
      ]
    },
    {
      "cell_type": "code",
      "source": [
        "#slicing -- u take a portion of data -- u take a slice of pizza from the whole one\n",
        "tx=(\"haneefa\")\n",
        "print(tx[0:2])"
      ],
      "metadata": {
        "colab": {
          "base_uri": "https://localhost:8080/"
        },
        "id": "GMVZ1eZXUb-F",
        "outputId": "baa0add7-02b1-492c-e85e-745e529f09b9"
      },
      "execution_count": null,
      "outputs": [
        {
          "output_type": "stream",
          "name": "stdout",
          "text": [
            "ha\n"
          ]
        }
      ]
    },
    {
      "cell_type": "code",
      "source": [
        "print(tx[0:4])"
      ],
      "metadata": {
        "colab": {
          "base_uri": "https://localhost:8080/"
        },
        "id": "Bv9HNJTJWA8m",
        "outputId": "d1589fbc-2495-4166-d06d-0ddc3506c524"
      },
      "execution_count": null,
      "outputs": [
        {
          "output_type": "stream",
          "name": "stdout",
          "text": [
            "hane\n"
          ]
        }
      ]
    },
    {
      "cell_type": "code",
      "source": [
        "print(tx[0:7:2])"
      ],
      "metadata": {
        "colab": {
          "base_uri": "https://localhost:8080/"
        },
        "id": "0GI9OKYwWKuj",
        "outputId": "5f8c20b2-7d7c-42cd-9cef-cc699c39adab"
      },
      "execution_count": null,
      "outputs": [
        {
          "output_type": "stream",
          "name": "stdout",
          "text": [
            "hnea\n"
          ]
        }
      ]
    },
    {
      "cell_type": "code",
      "source": [
        "print(tx[0: ])"
      ],
      "metadata": {
        "colab": {
          "base_uri": "https://localhost:8080/"
        },
        "id": "3YfxCIpUWko7",
        "outputId": "3bfa6817-6465-4269-b3f1-818f7b51c32f"
      },
      "execution_count": null,
      "outputs": [
        {
          "output_type": "stream",
          "name": "stdout",
          "text": [
            "haneefa\n"
          ]
        }
      ]
    },
    {
      "cell_type": "code",
      "source": [
        "print(tx[ : ])"
      ],
      "metadata": {
        "colab": {
          "base_uri": "https://localhost:8080/"
        },
        "id": "z-12chxXWr0x",
        "outputId": "9c1ff98e-6006-4adb-a270-b6249a3fcbd2"
      },
      "execution_count": null,
      "outputs": [
        {
          "output_type": "stream",
          "name": "stdout",
          "text": [
            "haneefa\n"
          ]
        }
      ]
    },
    {
      "cell_type": "code",
      "source": [
        "print(tx[ :4])"
      ],
      "metadata": {
        "colab": {
          "base_uri": "https://localhost:8080/"
        },
        "id": "0XPb6UJbWvC7",
        "outputId": "0124e459-8a89-4807-de8b-e7147592885a"
      },
      "execution_count": null,
      "outputs": [
        {
          "output_type": "stream",
          "name": "stdout",
          "text": [
            "hane\n"
          ]
        }
      ]
    },
    {
      "cell_type": "code",
      "source": [
        "print(tx[:-1])"
      ],
      "metadata": {
        "colab": {
          "base_uri": "https://localhost:8080/"
        },
        "id": "iy6J0lmoW-Vg",
        "outputId": "6339ac6e-1c9d-4488-febb-1297f721d216"
      },
      "execution_count": null,
      "outputs": [
        {
          "output_type": "stream",
          "name": "stdout",
          "text": [
            "haneef\n"
          ]
        }
      ]
    },
    {
      "cell_type": "code",
      "source": [
        "#mirroring effect #reversing the tuple\n",
        "tx=\"haneefa\"\n",
        "print(tx[::-1])"
      ],
      "metadata": {
        "colab": {
          "base_uri": "https://localhost:8080/"
        },
        "id": "pOiM7nDHXGv4",
        "outputId": "cd87f523-4ca5-4288-9f0a-471c11c29504"
      },
      "execution_count": null,
      "outputs": [
        {
          "output_type": "stream",
          "name": "stdout",
          "text": [
            "afeenah\n"
          ]
        }
      ]
    },
    {
      "cell_type": "code",
      "source": [
        "#concatenation #merge the entire tuples into a single tuple #join\n",
        "tupa=(1,2,3)\n",
        "tupb=(4,5,6)\n",
        "tupc=(7,8,9)\n",
        "tupd=tupa+tupb+tupc #+ operatorn is used for concatenation\n",
        "print(tupd) #merges to create a single tuple"
      ],
      "metadata": {
        "colab": {
          "base_uri": "https://localhost:8080/"
        },
        "id": "zuVJjUGdXL2u",
        "outputId": "0f5e4f97-3b8a-4a10-a48b-17dffc4cee56"
      },
      "execution_count": null,
      "outputs": [
        {
          "output_type": "stream",
          "name": "stdout",
          "text": [
            "(1, 2, 3, 4, 5, 6, 7, 8, 9)\n"
          ]
        }
      ]
    },
    {
      "cell_type": "code",
      "source": [
        "#repettion is allowed in tuple\n",
        "tupa=(1,2,3)\n",
        "rep_tuple=tupa*4\n",
        "print(rep_tuple)"
      ],
      "metadata": {
        "colab": {
          "base_uri": "https://localhost:8080/"
        },
        "id": "z7QL3jziYZjz",
        "outputId": "9218519d-4025-4265-a416-636c7f91dfd6"
      },
      "execution_count": null,
      "outputs": [
        {
          "output_type": "stream",
          "name": "stdout",
          "text": [
            "(1, 2, 3, 1, 2, 3, 1, 2, 3, 1, 2, 3)\n"
          ]
        }
      ]
    },
    {
      "cell_type": "code",
      "source": [
        "#MEASURE TYHE LENGTH OF TUPLE #len method is used to calculate the lenghth iof tuple\n",
        "rep_tuple=tupa*4\n",
        "print(len(rep_tuple))"
      ],
      "metadata": {
        "colab": {
          "base_uri": "https://localhost:8080/"
        },
        "id": "2SE5t0VgYoot",
        "outputId": "449876ba-4602-430a-d71f-9846e025696d"
      },
      "execution_count": null,
      "outputs": [
        {
          "output_type": "stream",
          "name": "stdout",
          "text": [
            "12\n"
          ]
        }
      ]
    },
    {
      "cell_type": "code",
      "source": [
        "#memebership test finction (in , not in ) ,, while the element exist in the tuple or not\n",
        "print(\"haneefa\" in rep_tuple)\n",
        "print(\"haneefa\" not in rep_tuple)"
      ],
      "metadata": {
        "colab": {
          "base_uri": "https://localhost:8080/"
        },
        "id": "-ej8GEI8Y5bA",
        "outputId": "106ec7f0-b943-43e4-d1f1-23af5b58c771"
      },
      "execution_count": null,
      "outputs": [
        {
          "output_type": "stream",
          "name": "stdout",
          "text": [
            "False\n",
            "True\n"
          ]
        }
      ]
    },
    {
      "cell_type": "code",
      "source": [
        "#occurerences/repetion of count\n",
        "h=(1, 2, 3, 1, 2, 3, 1, 2, 3, 1, 2, 3,3,3,3,3,3,3,3,3)\n",
        "print(h.count(3))"
      ],
      "metadata": {
        "colab": {
          "base_uri": "https://localhost:8080/"
        },
        "id": "nhIpoJByZPLE",
        "outputId": "9e8a43fe-4285-4126-c236-97a64b411716"
      },
      "execution_count": null,
      "outputs": [
        {
          "output_type": "stream",
          "name": "stdout",
          "text": [
            "12\n"
          ]
        }
      ]
    },
    {
      "cell_type": "code",
      "source": [
        "#nested tuples inside a tuple\n",
        "nested_tuple=((1,2,3),(4,5,6),(7,8,9))\n",
        "\n",
        "print(nested_tuple[2])"
      ],
      "metadata": {
        "colab": {
          "base_uri": "https://localhost:8080/"
        },
        "id": "WrOYKTVQZpO8",
        "outputId": "981d15ca-0d6f-49f9-ce50-3e52ecbf9171"
      },
      "execution_count": null,
      "outputs": [
        {
          "output_type": "stream",
          "name": "stdout",
          "text": [
            "(7, 8, 9)\n"
          ]
        }
      ]
    },
    {
      "cell_type": "code",
      "source": [],
      "metadata": {
        "id": "fDIFCz0TSrzP"
      },
      "execution_count": null,
      "outputs": []
    },
    {
      "cell_type": "markdown",
      "source": [
        "set data type"
      ],
      "metadata": {
        "id": "nbsZm-9ncPsE"
      }
    },
    {
      "cell_type": "code",
      "source": [
        "set_x={1,2,3,4,5}  #set of integers\n",
        "print(set_x)"
      ],
      "metadata": {
        "colab": {
          "base_uri": "https://localhost:8080/"
        },
        "id": "YcHpwLc3cRBc",
        "outputId": "d7ac29b9-d33a-44c7-d495-f57f2b561996"
      },
      "execution_count": null,
      "outputs": [
        {
          "output_type": "stream",
          "name": "stdout",
          "text": [
            "{1, 2, 3, 4, 5}\n"
          ]
        }
      ]
    },
    {
      "cell_type": "code",
      "source": [
        "set1={1,2,\"haneefa\",3+4j}  #heteregenous property of set\n",
        "print(set1)\n"
      ],
      "metadata": {
        "colab": {
          "base_uri": "https://localhost:8080/"
        },
        "id": "Pxob5hxMcXcJ",
        "outputId": "802294e3-6ccd-4f3d-b250-fac32e959137"
      },
      "execution_count": null,
      "outputs": [
        {
          "output_type": "stream",
          "name": "stdout",
          "text": [
            "{'haneefa', 1, 2, (3+4j)}\n"
          ]
        }
      ]
    },
    {
      "cell_type": "code",
      "source": [
        "setz={1,2,3,4,5,6} #add a new element\n",
        "setz.add(7)\n",
        "print(setz)"
      ],
      "metadata": {
        "colab": {
          "base_uri": "https://localhost:8080/"
        },
        "id": "DIjR6rICeJot",
        "outputId": "4f6d33e1-97b0-438c-faf0-24ab7f20210b"
      },
      "execution_count": null,
      "outputs": [
        {
          "output_type": "stream",
          "name": "stdout",
          "text": [
            "{1, 2, 3, 4, 5, 6, 7}\n"
          ]
        }
      ]
    },
    {
      "cell_type": "code",
      "source": [
        "setz.remove(5)\n",
        "print(setz)"
      ],
      "metadata": {
        "colab": {
          "base_uri": "https://localhost:8080/"
        },
        "id": "zafH-Mcteo0R",
        "outputId": "c16debfb-5362-45c0-9927-74ea1991f8c0"
      },
      "execution_count": null,
      "outputs": [
        {
          "output_type": "stream",
          "name": "stdout",
          "text": [
            "{1, 2, 3, 4, 6, 7}\n"
          ]
        }
      ]
    },
    {
      "cell_type": "code",
      "source": [
        "setz.remove(99) #remove will raise an error\n",
        "print(setz)"
      ],
      "metadata": {
        "colab": {
          "base_uri": "https://localhost:8080/",
          "height": 159
        },
        "id": "h0We_GZEei0i",
        "outputId": "39120890-e5d2-4cb5-805d-f6d93c4f0902"
      },
      "execution_count": null,
      "outputs": [
        {
          "output_type": "error",
          "ename": "KeyError",
          "evalue": "99",
          "traceback": [
            "\u001b[0;31m---------------------------------------------------------------------------\u001b[0m",
            "\u001b[0;31mKeyError\u001b[0m                                  Traceback (most recent call last)",
            "\u001b[0;32m<ipython-input-12-35fcb6d8b6c9>\u001b[0m in \u001b[0;36m<cell line: 0>\u001b[0;34m()\u001b[0m\n\u001b[0;32m----> 1\u001b[0;31m \u001b[0msetz\u001b[0m\u001b[0;34m.\u001b[0m\u001b[0mremove\u001b[0m\u001b[0;34m(\u001b[0m\u001b[0;36m99\u001b[0m\u001b[0;34m)\u001b[0m\u001b[0;34m\u001b[0m\u001b[0;34m\u001b[0m\u001b[0m\n\u001b[0m\u001b[1;32m      2\u001b[0m \u001b[0mprint\u001b[0m\u001b[0;34m(\u001b[0m\u001b[0msetz\u001b[0m\u001b[0;34m)\u001b[0m\u001b[0;34m\u001b[0m\u001b[0;34m\u001b[0m\u001b[0m\n",
            "\u001b[0;31mKeyError\u001b[0m: 99"
          ]
        }
      ]
    },
    {
      "cell_type": "code",
      "source": [
        "setz.discard(2)\n",
        "print(setz)"
      ],
      "metadata": {
        "colab": {
          "base_uri": "https://localhost:8080/"
        },
        "id": "g5PLECS-eyre",
        "outputId": "c0f02e3f-cf34-482d-d635-3efba23d3843"
      },
      "execution_count": null,
      "outputs": [
        {
          "output_type": "stream",
          "name": "stdout",
          "text": [
            "{1, 3, 4, 6, 7}\n"
          ]
        }
      ]
    },
    {
      "cell_type": "code",
      "source": [
        "setz.discard(98)\n",
        "print(setz) #it will not raise the error"
      ],
      "metadata": {
        "colab": {
          "base_uri": "https://localhost:8080/"
        },
        "id": "u3dLb1m4e7-I",
        "outputId": "32693b3a-b74a-4be9-e6de-7f0e6b25fd40"
      },
      "execution_count": null,
      "outputs": [
        {
          "output_type": "stream",
          "name": "stdout",
          "text": [
            "{1, 3, 4, 6, 7}\n"
          ]
        }
      ]
    },
    {
      "cell_type": "code",
      "source": [
        "#copy a set\n",
        "setq={1,3,5,7,8}\n",
        "setw=setq.copy() #they have same elements #two differentb sets in memory\n",
        "print(setw)"
      ],
      "metadata": {
        "colab": {
          "base_uri": "https://localhost:8080/"
        },
        "id": "t2hHxwrQfYXX",
        "outputId": "d16082b2-a5f4-4804-a949-32136f183e5f"
      },
      "execution_count": null,
      "outputs": [
        {
          "output_type": "stream",
          "name": "stdout",
          "text": [
            "{1, 3, 5, 7, 8}\n"
          ]
        }
      ]
    },
    {
      "cell_type": "code",
      "source": [
        "print(setw)"
      ],
      "metadata": {
        "colab": {
          "base_uri": "https://localhost:8080/"
        },
        "id": "G1ygL-vifmGD",
        "outputId": "b465249d-1884-43e0-8b94-4b0b6fece1f0"
      },
      "execution_count": null,
      "outputs": [
        {
          "output_type": "stream",
          "name": "stdout",
          "text": [
            "{1, 3, 5, 7, 8}\n"
          ]
        }
      ]
    },
    {
      "cell_type": "code",
      "source": [
        "setw.add(55)\n",
        "print(setw)"
      ],
      "metadata": {
        "colab": {
          "base_uri": "https://localhost:8080/"
        },
        "id": "F6vEaSLef11x",
        "outputId": "dc4295cb-6903-46cc-fb3b-24ccd0be9f66"
      },
      "execution_count": null,
      "outputs": [
        {
          "output_type": "stream",
          "name": "stdout",
          "text": [
            "{1, 3, 5, 55, 7, 8}\n"
          ]
        }
      ]
    },
    {
      "cell_type": "code",
      "source": [
        "print(setq)"
      ],
      "metadata": {
        "colab": {
          "base_uri": "https://localhost:8080/"
        },
        "id": "939veuM1f6yw",
        "outputId": "e984ed0c-4372-4c2f-e833-df8e02801f85"
      },
      "execution_count": null,
      "outputs": [
        {
          "output_type": "stream",
          "name": "stdout",
          "text": [
            "{1, 3, 5, 7, 8}\n"
          ]
        }
      ]
    },
    {
      "cell_type": "code",
      "source": [
        "#check the memebership(element exist in the set or not)\n",
        "print( 88 in setw)\n",
        "print( 77 not in setw)"
      ],
      "metadata": {
        "colab": {
          "base_uri": "https://localhost:8080/"
        },
        "id": "Ec5iacB8f-bY",
        "outputId": "a063c31a-9a22-41f4-cdee-63c51e22f8e3"
      },
      "execution_count": null,
      "outputs": [
        {
          "output_type": "stream",
          "name": "stdout",
          "text": [
            "False\n",
            "True\n"
          ]
        }
      ]
    },
    {
      "cell_type": "code",
      "source": [
        "#union of 2 sets\n",
        "set1={1,2,3,4,5,6}\n",
        "set2={4,5,6,7,8,9}\n",
        "set3=set1.union(set2)\n",
        "print(set3)"
      ],
      "metadata": {
        "colab": {
          "base_uri": "https://localhost:8080/"
        },
        "id": "046_ihLgg0Fo",
        "outputId": "9aeaa2fc-3685-4327-8fa2-b182322f9fc2"
      },
      "execution_count": null,
      "outputs": [
        {
          "output_type": "stream",
          "name": "stdout",
          "text": [
            "{1, 2, 3, 4, 5, 6, 7, 8, 9}\n"
          ]
        }
      ]
    },
    {
      "cell_type": "code",
      "source": [
        "#intersectrion of sets #pick the common elements\n",
        "setx={1,2,3}\n",
        "sety={2,3,4}\n",
        "setz=setx.intersection(sety)\n",
        "print(setz)"
      ],
      "metadata": {
        "colab": {
          "base_uri": "https://localhost:8080/"
        },
        "id": "hXCzSJsWhPmY",
        "outputId": "85988c3b-8f7f-475c-fe26-0297f9b77f28"
      },
      "execution_count": null,
      "outputs": [
        {
          "output_type": "stream",
          "name": "stdout",
          "text": [
            "{2, 3}\n"
          ]
        }
      ]
    },
    {
      "cell_type": "code",
      "source": [
        "#differenc eof 2 sets #print all the elements of A which is not in B\n",
        "A={1,2,3}\n",
        "B={2,3,4}\n",
        "setz=A.difference(B)\n",
        "print(setz)"
      ],
      "metadata": {
        "colab": {
          "base_uri": "https://localhost:8080/"
        },
        "id": "1r0IfGo_hyl4",
        "outputId": "81b6f338-e343-4473-d393-eddf1cd2aa50"
      },
      "execution_count": null,
      "outputs": [
        {
          "output_type": "stream",
          "name": "stdout",
          "text": [
            "{1}\n"
          ]
        }
      ]
    },
    {
      "cell_type": "code",
      "source": [
        "#differenc eof 2 sets #print all the elements of B which is not in A\n",
        "A={1,2,3}\n",
        "B={2,3,4}\n",
        "setz=B.difference(A)\n",
        "print(setz)"
      ],
      "metadata": {
        "colab": {
          "base_uri": "https://localhost:8080/"
        },
        "id": "1X9yukN-iR4X",
        "outputId": "aa9b254e-f8fd-4dc5-ae8d-80831aac1693"
      },
      "execution_count": null,
      "outputs": [
        {
          "output_type": "stream",
          "name": "stdout",
          "text": [
            "{4}\n"
          ]
        }
      ]
    },
    {
      "cell_type": "code",
      "source": [
        "#symmetric difference #just take unique eleements from both sets\n",
        "A={1,2,3,7,8}\n",
        "B={2,3,4,66,77}\n",
        "setz=A.symmetric_difference(B)\n",
        "print(setz) #un ordered property in sets"
      ],
      "metadata": {
        "colab": {
          "base_uri": "https://localhost:8080/"
        },
        "id": "nExNB_4OioC5",
        "outputId": "64e6f631-9e14-4a06-ba7c-2e4d0940003a"
      },
      "execution_count": null,
      "outputs": [
        {
          "output_type": "stream",
          "name": "stdout",
          "text": [
            "{1, 4, 66, 7, 8, 77}\n"
          ]
        }
      ]
    },
    {
      "cell_type": "code",
      "source": [
        "#removing the duplicates from the lsit\n",
        "my_list=[1,1,2,2,3,4,5,5,6,6]\n",
        "unique_list=set(my_list) #remove the duplication\n",
        "print(unique_list)"
      ],
      "metadata": {
        "colab": {
          "base_uri": "https://localhost:8080/",
          "height": 193
        },
        "id": "VvtT_twGi_cI",
        "outputId": "2262c607-6f58-4b73-f124-a463751d046b"
      },
      "execution_count": null,
      "outputs": [
        {
          "output_type": "error",
          "ename": "TypeError",
          "evalue": "'set' object is not callable",
          "traceback": [
            "\u001b[0;31m---------------------------------------------------------------------------\u001b[0m",
            "\u001b[0;31mTypeError\u001b[0m                                 Traceback (most recent call last)",
            "\u001b[0;32m<ipython-input-25-37ff9b243475>\u001b[0m in \u001b[0;36m<cell line: 0>\u001b[0;34m()\u001b[0m\n\u001b[1;32m      1\u001b[0m \u001b[0;31m#removing the duplicates from the lsit\u001b[0m\u001b[0;34m\u001b[0m\u001b[0;34m\u001b[0m\u001b[0m\n\u001b[1;32m      2\u001b[0m \u001b[0mmy_list\u001b[0m\u001b[0;34m=\u001b[0m\u001b[0;34m[\u001b[0m\u001b[0;36m1\u001b[0m\u001b[0;34m,\u001b[0m\u001b[0;36m1\u001b[0m\u001b[0;34m,\u001b[0m\u001b[0;36m2\u001b[0m\u001b[0;34m,\u001b[0m\u001b[0;36m2\u001b[0m\u001b[0;34m,\u001b[0m\u001b[0;36m3\u001b[0m\u001b[0;34m,\u001b[0m\u001b[0;36m4\u001b[0m\u001b[0;34m,\u001b[0m\u001b[0;36m5\u001b[0m\u001b[0;34m,\u001b[0m\u001b[0;36m5\u001b[0m\u001b[0;34m,\u001b[0m\u001b[0;36m6\u001b[0m\u001b[0;34m,\u001b[0m\u001b[0;36m6\u001b[0m\u001b[0;34m]\u001b[0m\u001b[0;34m\u001b[0m\u001b[0;34m\u001b[0m\u001b[0m\n\u001b[0;32m----> 3\u001b[0;31m \u001b[0munique_list\u001b[0m\u001b[0;34m=\u001b[0m\u001b[0mset\u001b[0m\u001b[0;34m(\u001b[0m\u001b[0mmy_list\u001b[0m\u001b[0;34m)\u001b[0m \u001b[0;31m#remove the duplication\u001b[0m\u001b[0;34m\u001b[0m\u001b[0;34m\u001b[0m\u001b[0m\n\u001b[0m\u001b[1;32m      4\u001b[0m \u001b[0mprint\u001b[0m\u001b[0;34m(\u001b[0m\u001b[0munique_list\u001b[0m\u001b[0;34m)\u001b[0m\u001b[0;34m\u001b[0m\u001b[0;34m\u001b[0m\u001b[0m\n",
            "\u001b[0;31mTypeError\u001b[0m: 'set' object is not callable"
          ]
        }
      ]
    },
    {
      "cell_type": "code",
      "source": [
        "setf={1,1,3,3,4,4,5,5}\n",
        "print(setf) #removing the duplicates"
      ],
      "metadata": {
        "colab": {
          "base_uri": "https://localhost:8080/"
        },
        "id": "fFpfUZB8j0HA",
        "outputId": "2ff8ca66-fe56-43e2-e030-7e3d326cbc79"
      },
      "execution_count": null,
      "outputs": [
        {
          "output_type": "stream",
          "name": "stdout",
          "text": [
            "{1, 3, 4, 5}\n"
          ]
        }
      ]
    },
    {
      "cell_type": "code",
      "source": [
        "haneffalisty=[1,1,3,3,4,4,5,5]\n",
        "print(haneffalisty)\n",
        "\n",
        "unique_elements=set(haneffalisty) #remove the duplication\n",
        "print(unique_elements)\n"
      ],
      "metadata": {
        "colab": {
          "base_uri": "https://localhost:8080/",
          "height": 211
        },
        "id": "ymXhNJYFkftI",
        "outputId": "e68655a1-5063-45fc-c182-e26f6e8fcbee"
      },
      "execution_count": null,
      "outputs": [
        {
          "output_type": "stream",
          "name": "stdout",
          "text": [
            "[1, 1, 3, 3, 4, 4, 5, 5]\n"
          ]
        },
        {
          "output_type": "error",
          "ename": "TypeError",
          "evalue": "'set' object is not callable",
          "traceback": [
            "\u001b[0;31m---------------------------------------------------------------------------\u001b[0m",
            "\u001b[0;31mTypeError\u001b[0m                                 Traceback (most recent call last)",
            "\u001b[0;32m<ipython-input-30-d3cd9d66abf3>\u001b[0m in \u001b[0;36m<cell line: 0>\u001b[0;34m()\u001b[0m\n\u001b[1;32m      2\u001b[0m \u001b[0mprint\u001b[0m\u001b[0;34m(\u001b[0m\u001b[0mhaneffalisty\u001b[0m\u001b[0;34m)\u001b[0m\u001b[0;34m\u001b[0m\u001b[0;34m\u001b[0m\u001b[0m\n\u001b[1;32m      3\u001b[0m \u001b[0;34m\u001b[0m\u001b[0m\n\u001b[0;32m----> 4\u001b[0;31m \u001b[0munique_elements\u001b[0m\u001b[0;34m=\u001b[0m\u001b[0mset\u001b[0m\u001b[0;34m(\u001b[0m\u001b[0mhaneffalisty\u001b[0m\u001b[0;34m)\u001b[0m \u001b[0;31m#remove the duplication\u001b[0m\u001b[0;34m\u001b[0m\u001b[0;34m\u001b[0m\u001b[0m\n\u001b[0m\u001b[1;32m      5\u001b[0m \u001b[0mprint\u001b[0m\u001b[0;34m(\u001b[0m\u001b[0munique_elements\u001b[0m\u001b[0;34m)\u001b[0m\u001b[0;34m\u001b[0m\u001b[0;34m\u001b[0m\u001b[0m\n",
            "\u001b[0;31mTypeError\u001b[0m: 'set' object is not callable"
          ]
        }
      ]
    },
    {
      "cell_type": "code",
      "source": [],
      "metadata": {
        "id": "rG8SzfaLkw-L"
      },
      "execution_count": null,
      "outputs": []
    },
    {
      "cell_type": "markdown",
      "source": [
        "dictionaries: collection of {key-value} pairs.."
      ],
      "metadata": {
        "id": "pveUOyFwkeA4"
      }
    },
    {
      "cell_type": "code",
      "source": [
        "my_dict={} #empty dictionary\n",
        "print(my_dict)"
      ],
      "metadata": {
        "colab": {
          "base_uri": "https://localhost:8080/"
        },
        "id": "MTxA6QXEkkSp",
        "outputId": "bb5ecba1-bf5a-4c45-d9b0-bf49965a912c"
      },
      "execution_count": 1,
      "outputs": [
        {
          "output_type": "stream",
          "name": "stdout",
          "text": [
            "{}\n"
          ]
        }
      ]
    },
    {
      "cell_type": "code",
      "source": [
        "my_dictt={\"alice\":20,\"bob\":30,\"carol\":25,\"haneefa\":45}#dict literal #key and their corresponding values\n",
        "print(my_dictt)"
      ],
      "metadata": {
        "colab": {
          "base_uri": "https://localhost:8080/"
        },
        "id": "ycVj2qzQknf0",
        "outputId": "9e04660d-2773-4a5f-d1b4-f5b1248a1f18"
      },
      "execution_count": 2,
      "outputs": [
        {
          "output_type": "stream",
          "name": "stdout",
          "text": [
            "{'alice': 20, 'bob': 30, 'carol': 25, 'haneefa': 45}\n"
          ]
        }
      ]
    },
    {
      "cell_type": "code",
      "source": [
        "#using the dictiuonary constructorr #round brackets\n",
        "#Vvariablename=dict()\n",
        "my_dict=dict(name=\"haneefa\",age=25, country=\"UK\")#dynamic dictioanry #create a dictionary using dict function with initial values\n",
        "print(my_dict)"
      ],
      "metadata": {
        "colab": {
          "base_uri": "https://localhost:8080/"
        },
        "id": "D43lQiSwk2hD",
        "outputId": "402bee86-9683-4071-c9ed-4fb7313d95b5"
      },
      "execution_count": 3,
      "outputs": [
        {
          "output_type": "stream",
          "name": "stdout",
          "text": [
            "{'name': 'haneefa', 'age': 25, 'country': 'UK'}\n"
          ]
        }
      ]
    },
    {
      "cell_type": "code",
      "source": [
        "#dictioanry operations\n",
        "my_dictt={\"alice\":20,\"bob\":30,\"carol\":25,\"haneefa\":45}\n",
        "print(my_dictt['alice']) #in accesing the value , you've to give the key"
      ],
      "metadata": {
        "colab": {
          "base_uri": "https://localhost:8080/"
        },
        "id": "3PBUBZTQlNzs",
        "outputId": "30bb761a-db02-40d3-e11a-aecbd3c9a6b0"
      },
      "execution_count": 11,
      "outputs": [
        {
          "output_type": "stream",
          "name": "stdout",
          "text": [
            "20\n"
          ]
        }
      ]
    },
    {
      "cell_type": "code",
      "source": [
        "print(my_dictt['haneefa'])"
      ],
      "metadata": {
        "colab": {
          "base_uri": "https://localhost:8080/"
        },
        "id": "7dJOWc9rmzql",
        "outputId": "2b70bcb0-6fcc-4412-f988-99c5ab624b95"
      },
      "execution_count": 12,
      "outputs": [
        {
          "output_type": "stream",
          "name": "stdout",
          "text": [
            "45\n"
          ]
        }
      ]
    },
    {
      "cell_type": "code",
      "source": [
        "#access the value by using get()\n",
        "print(my_dictt.get(\"bob\"))"
      ],
      "metadata": {
        "colab": {
          "base_uri": "https://localhost:8080/"
        },
        "id": "4dykWCDJm9jY",
        "outputId": "efbabfd4-05e0-4e8e-8a83-94fdbc05d855"
      },
      "execution_count": 19,
      "outputs": [
        {
          "output_type": "stream",
          "name": "stdout",
          "text": [
            "30\n"
          ]
        }
      ]
    },
    {
      "cell_type": "code",
      "source": [
        "print(my_dictt.get(\"haneefa\"))"
      ],
      "metadata": {
        "colab": {
          "base_uri": "https://localhost:8080/"
        },
        "id": "XAh8Yi_vnC95",
        "outputId": "83ec96ed-b02c-4bc8-bff8-aaa165d14243"
      },
      "execution_count": 20,
      "outputs": [
        {
          "output_type": "stream",
          "name": "stdout",
          "text": [
            "45\n"
          ]
        }
      ]
    },
    {
      "cell_type": "code",
      "source": [
        "my_dictt={\"alice\":20,\"bob\":30,\"carol\":25,\"haneefa\":45}\n",
        "my_dictt['country']='USA' #adding a new eleement   #property of being mutable\n",
        "print(my_dictt)"
      ],
      "metadata": {
        "colab": {
          "base_uri": "https://localhost:8080/"
        },
        "id": "BDHYZbH8ouSB",
        "outputId": "b92cd54a-5070-4ff9-c1ce-f66a2a6862b2"
      },
      "execution_count": 22,
      "outputs": [
        {
          "output_type": "stream",
          "name": "stdout",
          "text": [
            "{'alice': 20, 'bob': 30, 'carol': 25, 'haneefa': 45, 'country': 'USA'}\n"
          ]
        }
      ]
    },
    {
      "cell_type": "code",
      "source": [
        "my_dictt['bob']=32 #update the  existing value\n",
        "print(my_dictt)"
      ],
      "metadata": {
        "colab": {
          "base_uri": "https://localhost:8080/"
        },
        "id": "NsWDza9TpJfn",
        "outputId": "e31502ad-5cd3-45a7-bf35-f26c0f30ba08"
      },
      "execution_count": 23,
      "outputs": [
        {
          "output_type": "stream",
          "name": "stdout",
          "text": [
            "{'alice': 20, 'bob': 32, 'carol': 25, 'haneefa': 45, 'country': 'USA'}\n"
          ]
        }
      ]
    },
    {
      "cell_type": "code",
      "source": [
        "del my_dictt['alice'] #delete the element in dict\n",
        "print(my_dictt)"
      ],
      "metadata": {
        "colab": {
          "base_uri": "https://localhost:8080/"
        },
        "id": "ZJ8bS6r5pVZ5",
        "outputId": "4161457e-5367-47e2-b467-469105075444"
      },
      "execution_count": 24,
      "outputs": [
        {
          "output_type": "stream",
          "name": "stdout",
          "text": [
            "{'bob': 32, 'carol': 25, 'haneefa': 45, 'country': 'USA'}\n"
          ]
        }
      ]
    },
    {
      "cell_type": "code",
      "source": [
        "#memebership function\n",
        "print('bob' in my_dictt)\n",
        "print('bob' not in my_dictt)"
      ],
      "metadata": {
        "colab": {
          "base_uri": "https://localhost:8080/"
        },
        "id": "wizFy_sFpjq0",
        "outputId": "d89827c0-43e6-4bae-d564-e3900728d8bc"
      },
      "execution_count": 25,
      "outputs": [
        {
          "output_type": "stream",
          "name": "stdout",
          "text": [
            "True\n",
            "False\n"
          ]
        }
      ]
    },
    {
      "cell_type": "code",
      "source": [
        "print(my_dictt.keys())"
      ],
      "metadata": {
        "colab": {
          "base_uri": "https://localhost:8080/"
        },
        "id": "qe_Ta4wZpzWh",
        "outputId": "dee3a524-8a5a-494a-f246-a046267ca911"
      },
      "execution_count": 27,
      "outputs": [
        {
          "output_type": "stream",
          "name": "stdout",
          "text": [
            "dict_keys(['bob', 'carol', 'haneefa', 'country'])\n"
          ]
        }
      ]
    },
    {
      "cell_type": "code",
      "source": [
        "print(my_dictt.values())"
      ],
      "metadata": {
        "colab": {
          "base_uri": "https://localhost:8080/"
        },
        "id": "VNwJRaZyp4xE",
        "outputId": "b9a6cf75-2588-444c-dbb3-bb7190fd2ae6"
      },
      "execution_count": 28,
      "outputs": [
        {
          "output_type": "stream",
          "name": "stdout",
          "text": [
            "dict_values([32, 25, 45, 'USA'])\n"
          ]
        }
      ]
    },
    {
      "cell_type": "code",
      "source": [
        "print(my_dictt.items()) #key-value pair"
      ],
      "metadata": {
        "colab": {
          "base_uri": "https://localhost:8080/"
        },
        "id": "k8_pAvd3p_j-",
        "outputId": "50a7aa00-4f92-4491-c47c-546546ad48e3"
      },
      "execution_count": 29,
      "outputs": [
        {
          "output_type": "stream",
          "name": "stdout",
          "text": [
            "dict_items([('bob', 32), ('carol', 25), ('haneefa', 45), ('country', 'USA')])\n"
          ]
        }
      ]
    },
    {
      "cell_type": "code",
      "source": [
        "print(len(my_dictt))"
      ],
      "metadata": {
        "colab": {
          "base_uri": "https://localhost:8080/"
        },
        "id": "-aVKZIYQqGEp",
        "outputId": "bae92e7b-493f-44c1-9fff-c679341e43b8"
      },
      "execution_count": 30,
      "outputs": [
        {
          "output_type": "stream",
          "name": "stdout",
          "text": [
            "4\n"
          ]
        }
      ]
    },
    {
      "cell_type": "code",
      "source": [
        "print(my_dictt.update())"
      ],
      "metadata": {
        "colab": {
          "base_uri": "https://localhost:8080/"
        },
        "id": "DpiExqsLqKqu",
        "outputId": "d09df8bd-c7f3-48f4-c15d-6029f1a2b200"
      },
      "execution_count": 31,
      "outputs": [
        {
          "output_type": "stream",
          "name": "stdout",
          "text": [
            "None\n"
          ]
        }
      ]
    },
    {
      "cell_type": "code",
      "source": [
        "#iterarete over the keys\n",
        "for i in my_dictt:\n",
        "  print(i)"
      ],
      "metadata": {
        "colab": {
          "base_uri": "https://localhost:8080/"
        },
        "id": "I9izC-97qUv1",
        "outputId": "dd0c19eb-8267-4cc5-fcd6-e9c47dc94896"
      },
      "execution_count": 32,
      "outputs": [
        {
          "output_type": "stream",
          "name": "stdout",
          "text": [
            "bob\n",
            "carol\n",
            "haneefa\n",
            "country\n"
          ]
        }
      ]
    },
    {
      "cell_type": "code",
      "source": [
        "for i in my_dictt.values():\n",
        "  print(i)"
      ],
      "metadata": {
        "colab": {
          "base_uri": "https://localhost:8080/"
        },
        "id": "t0LYZnM6qjoh",
        "outputId": "a42f98ee-eb36-4d68-b3db-2e408f53e254"
      },
      "execution_count": 35,
      "outputs": [
        {
          "output_type": "stream",
          "name": "stdout",
          "text": [
            "32\n",
            "25\n",
            "45\n",
            "USA\n"
          ]
        }
      ]
    },
    {
      "cell_type": "code",
      "source": [
        "for i in my_dictt.items():\n",
        "  print(i)"
      ],
      "metadata": {
        "colab": {
          "base_uri": "https://localhost:8080/"
        },
        "id": "EAqn6swoqonP",
        "outputId": "4c24b227-b81f-4083-959a-f12d6f71a58c"
      },
      "execution_count": 36,
      "outputs": [
        {
          "output_type": "stream",
          "name": "stdout",
          "text": [
            "('bob', 32)\n",
            "('carol', 25)\n",
            "('haneefa', 45)\n",
            "('country', 'USA')\n"
          ]
        }
      ]
    },
    {
      "cell_type": "code",
      "source": [
        "for key,value in my_dictt.items(): #iterate over the key-value pairs\n",
        "  print (f\"{key}:{value}\")"
      ],
      "metadata": {
        "colab": {
          "base_uri": "https://localhost:8080/"
        },
        "id": "E3DctvRBq7et",
        "outputId": "3a80ae6a-db9e-42ea-eb87-d647c6cefd46"
      },
      "execution_count": 37,
      "outputs": [
        {
          "output_type": "stream",
          "name": "stdout",
          "text": [
            "bob:32\n",
            "carol:25\n",
            "haneefa:45\n",
            "country:USA\n"
          ]
        }
      ]
    },
    {
      "cell_type": "code",
      "source": [
        "dict1={\"name\":\"haneefa\",\"age\":25,\"country\":\"UK\"}\n",
        "dict2={\"city\":\"london\",\"gender\":\"female\"}\n",
        "dict1.update(dict2) #merge two dictionaries #join them and give the result in one dictianry\n",
        "print(dict1)"
      ],
      "metadata": {
        "colab": {
          "base_uri": "https://localhost:8080/"
        },
        "id": "6qmC4EHjrVEy",
        "outputId": "f423fbc8-cb08-4489-86ac-2617d002d3f1"
      },
      "execution_count": 38,
      "outputs": [
        {
          "output_type": "stream",
          "name": "stdout",
          "text": [
            "{'name': 'haneefa', 'age': 25, 'country': 'UK', 'city': 'london', 'gender': 'female'}\n"
          ]
        }
      ]
    },
    {
      "cell_type": "code",
      "source": [
        "#storing thr persnal informartion of hanefa in dictinary\n",
        "person={\n",
        "    \"name\":\"haneefa\",\n",
        "    \"age\":25,\n",
        "    \"city\":\"london\",\n",
        "    \"country\":\"UK\",\n",
        "    \"gender\":\"female\",\n",
        "    \"hobbies\":[\"reading\",\"cooking\",\"traveling\"],\n",
        "    \"address\":{\n",
        "        \"street\":\"123 main st\",\n",
        "        \"city\":\"london\",\n",
        "        \"country\":\"UK\"}\n",
        "}\n",
        "\n",
        "print(person['hobbies'])\n",
        "print(person['address'])\n",
        "print(person['name'])\n"
      ],
      "metadata": {
        "colab": {
          "base_uri": "https://localhost:8080/"
        },
        "id": "G9yJUtSwrx7X",
        "outputId": "a0b88b0c-80c3-4f82-bfb6-bb7ba2dbcb24"
      },
      "execution_count": 40,
      "outputs": [
        {
          "output_type": "stream",
          "name": "stdout",
          "text": [
            "['reading', 'cooking', 'traveling']\n",
            "{'street': '123 main st', 'city': 'london', 'country': 'UK'}\n",
            "haneefa\n"
          ]
        }
      ]
    },
    {
      "cell_type": "code",
      "source": [],
      "metadata": {
        "id": "JuGKW8cxsV-i"
      },
      "execution_count": null,
      "outputs": []
    }
  ]
}