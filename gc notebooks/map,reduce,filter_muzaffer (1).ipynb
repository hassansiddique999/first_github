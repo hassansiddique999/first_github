{
  "nbformat": 4,
  "nbformat_minor": 0,
  "metadata": {
    "colab": {
      "provenance": []
    },
    "kernelspec": {
      "name": "python3",
      "display_name": "Python 3"
    },
    "language_info": {
      "name": "python"
    }
  },
  "cells": [
    {
      "cell_type": "code",
      "execution_count": null,
      "metadata": {
        "id": "rQ71aB8l-9Q8"
      },
      "outputs": [],
      "source": []
    },
    {
      "cell_type": "markdown",
      "source": [
        "map"
      ],
      "metadata": {
        "id": "5Tv9KI7D_D07"
      }
    },
    {
      "cell_type": "code",
      "source": [],
      "metadata": {
        "id": "FQCjopsn_E-k"
      },
      "execution_count": null,
      "outputs": []
    },
    {
      "cell_type": "code",
      "source": [
        "#map(function,iterable)\n",
        "numbers=[1,2,3,4,5,6] #iterable ,list\n",
        "#square of each element in the list\n",
        "squared_num=list(map(lambda x:x**2,numbers)) #apply square to each element\n",
        "print(squared_num)"
      ],
      "metadata": {
        "colab": {
          "base_uri": "https://localhost:8080/"
        },
        "id": "ObBA0dxV_FwW",
        "outputId": "c3e56fff-451e-4f2c-f4ed-30ae5190de57"
      },
      "execution_count": null,
      "outputs": [
        {
          "output_type": "stream",
          "name": "stdout",
          "text": [
            "[1, 4, 9, 16, 25, 36]\n"
          ]
        }
      ]
    },
    {
      "cell_type": "code",
      "source": [
        "numbers=[1,2,3,4,5] #iterable ,list\n",
        "squared_numbers=map(lambda x:x*x,numbers) #its an iterator\n",
        "\n",
        "#get the first number squred\n",
        "first_squared=next(squared_numbers) #next element of iterator\n",
        "print(first_squared)"
      ],
      "metadata": {
        "colab": {
          "base_uri": "https://localhost:8080/"
        },
        "id": "1H4XCh6J_2qh",
        "outputId": "065c4aa8-0f78-40fe-a2f1-94b5e901f0aa"
      },
      "execution_count": null,
      "outputs": [
        {
          "output_type": "stream",
          "name": "stdout",
          "text": [
            "1\n"
          ]
        }
      ]
    },
    {
      "cell_type": "code",
      "source": [
        "second_squared=next(squared_numbers)\n",
        "print(second_squared)"
      ],
      "metadata": {
        "colab": {
          "base_uri": "https://localhost:8080/"
        },
        "id": "J_Adn4Bw_xW_",
        "outputId": "10de92e3-5c2a-4832-a372-f6a66680f826"
      },
      "execution_count": null,
      "outputs": [
        {
          "output_type": "stream",
          "name": "stdout",
          "text": [
            "4\n"
          ]
        }
      ]
    },
    {
      "cell_type": "code",
      "source": [
        "third_squared=next(squared_numbers)\n",
        "print(third_squared)"
      ],
      "metadata": {
        "colab": {
          "base_uri": "https://localhost:8080/"
        },
        "id": "yKs_iqFtAXBr",
        "outputId": "66be5387-0970-4bc5-d778-30e2f9ee36c9"
      },
      "execution_count": null,
      "outputs": [
        {
          "output_type": "stream",
          "name": "stdout",
          "text": [
            "9\n"
          ]
        }
      ]
    },
    {
      "cell_type": "code",
      "source": [
        "#memory efficient\n",
        "#large dataset= it would requireed a significant amount of memeoryu to store all the results\n",
        "#on demand generation  --iterator -- whn yopu ask for it"
      ],
      "metadata": {
        "id": "7zNTxikAA02h"
      },
      "execution_count": null,
      "outputs": []
    },
    {
      "cell_type": "code",
      "source": [
        "celcius=[0,20,37,100]\n",
        "fahrenheit=list(map(lambda x:(x*9/5)+32,celcius)) #convert celcius to farenhiet\n",
        "print(fahrenheit)"
      ],
      "metadata": {
        "colab": {
          "base_uri": "https://localhost:8080/"
        },
        "id": "fSXCUY0aBo2E",
        "outputId": "c849426f-ae93-4a24-8122-cf9f0816ead0"
      },
      "execution_count": null,
      "outputs": [
        {
          "output_type": "stream",
          "name": "stdout",
          "text": [
            "[32.0, 68.0, 98.6, 212.0]\n"
          ]
        }
      ]
    },
    {
      "cell_type": "code",
      "source": [
        "num=[5,10,15]\n",
        "updated_nums=list(map(lambda x:x+10,num)) #add 10 to each element\n",
        "print(updated_nums)"
      ],
      "metadata": {
        "colab": {
          "base_uri": "https://localhost:8080/"
        },
        "id": "tYlkxjSqCJqQ",
        "outputId": "95cbdd5a-860c-43c5-820c-a5aa9c187305"
      },
      "execution_count": null,
      "outputs": [
        {
          "output_type": "stream",
          "name": "stdout",
          "text": [
            "[15, 20, 25]\n"
          ]
        }
      ]
    },
    {
      "cell_type": "code",
      "source": [
        "names=[\"john\",\"muzaffer\", \"ali\"]\n",
        "uuper_names=list(map(lambda x:x.upper(),names)) #convert to upper case\n",
        "print(uuper_names)"
      ],
      "metadata": {
        "colab": {
          "base_uri": "https://localhost:8080/"
        },
        "id": "dvP2TXZZCgPs",
        "outputId": "1320c99a-1fe5-4838-82c4-c5598f1ab54b"
      },
      "execution_count": null,
      "outputs": [
        {
          "output_type": "stream",
          "name": "stdout",
          "text": [
            "['JOHN', 'MUZAFFER', 'ALI']\n"
          ]
        }
      ]
    },
    {
      "cell_type": "code",
      "source": [
        "list1=[1,2,5]\n",
        "list2=[4,5,6]\n",
        "product=list(map(lambda x,y:x*y,list1,list2)) #multiplying the corresponding values\n",
        "print(product)"
      ],
      "metadata": {
        "colab": {
          "base_uri": "https://localhost:8080/"
        },
        "id": "wT9fX9d4Cwmv",
        "outputId": "9d6ab9ff-8899-40b1-b657-5a3ff192d4d6"
      },
      "execution_count": null,
      "outputs": [
        {
          "output_type": "stream",
          "name": "stdout",
          "text": [
            "[4, 10, 30]\n"
          ]
        }
      ]
    },
    {
      "cell_type": "code",
      "source": [
        "words=[\"hello\", \"hey\", \"can\", \"i\", \"ask\", \"you\", \"something\"]\n",
        "exclmtion=list(map(lambda x:x+\"!\",words)) #add ! to each element #iterator is going to each elementu and adding ! to each word\n",
        "print(exclmtion) #memory minimization"
      ],
      "metadata": {
        "colab": {
          "base_uri": "https://localhost:8080/"
        },
        "id": "4X15al6dDHN-",
        "outputId": "4262d8e2-bcb4-4822-ed22-5c5251957d71"
      },
      "execution_count": null,
      "outputs": [
        {
          "output_type": "stream",
          "name": "stdout",
          "text": [
            "['hello!', 'hey!', 'can!', 'i!', 'ask!', 'you!', 'something!']\n"
          ]
        }
      ]
    },
    {
      "cell_type": "code",
      "source": [
        "num=[1,2,3,4,5,6]\n",
        "is_even=list(map(lambda x:x%2==0,num)) #check if the number is even\n",
        "print(is_even) #true false"
      ],
      "metadata": {
        "colab": {
          "base_uri": "https://localhost:8080/"
        },
        "id": "859A95weD5SA",
        "outputId": "982e7c9e-47b3-4835-b7a4-272a02581229"
      },
      "execution_count": null,
      "outputs": [
        {
          "output_type": "stream",
          "name": "stdout",
          "text": [
            "[False, True, False, True, False, True]\n"
          ]
        }
      ]
    },
    {
      "cell_type": "code",
      "source": [
        "sentences=[\"hello world\", \"python programming\"]\n",
        "underscore=list(map(lambda x:x.replace(\" \",\"_\"), sentences))\n",
        "print(underscore)"
      ],
      "metadata": {
        "colab": {
          "base_uri": "https://localhost:8080/"
        },
        "id": "yBX2ltNwENUQ",
        "outputId": "4177fb39-e1b0-4ae6-89fe-12070dc6a854"
      },
      "execution_count": null,
      "outputs": [
        {
          "output_type": "stream",
          "name": "stdout",
          "text": [
            "['hello_world', 'python_programming']\n"
          ]
        }
      ]
    },
    {
      "cell_type": "code",
      "source": [],
      "metadata": {
        "id": "LHSVHXCUE3ns"
      },
      "execution_count": null,
      "outputs": []
    },
    {
      "cell_type": "markdown",
      "source": [
        "reeduce()--cumulative result--single elemnt\n",
        "\n",
        "-single cummulative result\n"
      ],
      "metadata": {
        "id": "k0xAFzMVFreF"
      }
    },
    {
      "cell_type": "markdown",
      "source": [],
      "metadata": {
        "id": "nvNrlYrCIR4_"
      }
    },
    {
      "cell_type": "code",
      "source": [
        "from functools import reduce\n"
      ],
      "metadata": {
        "id": "Rso4aEGyFs6z"
      },
      "execution_count": 3,
      "outputs": []
    },
    {
      "cell_type": "code",
      "source": [
        "numbers=[1,2,3,4,5]\n",
        "sum_num=reduce(lambda x,y:x+y,numbers) #add all the elements\n",
        "print(sum_num)"
      ],
      "metadata": {
        "colab": {
          "base_uri": "https://localhost:8080/",
          "height": 0
        },
        "id": "CjnipUOaGt-W",
        "outputId": "efe632c7-a1d5-407f-9a71-cdd9aacbd13b"
      },
      "execution_count": 4,
      "outputs": [
        {
          "output_type": "stream",
          "name": "stdout",
          "text": [
            "15\n"
          ]
        }
      ]
    },
    {
      "cell_type": "code",
      "source": [
        "numbers=[1,2,3,4,5]\n",
        "product=reduce(lambda x,y:x*y,numbers) #multiply all the elements\n",
        "print(product)"
      ],
      "metadata": {
        "colab": {
          "base_uri": "https://localhost:8080/",
          "height": 0
        },
        "id": "dkbQHaa7HXib",
        "outputId": "4c580f8a-745c-4633-b7f7-62fe195fa121"
      },
      "execution_count": 5,
      "outputs": [
        {
          "output_type": "stream",
          "name": "stdout",
          "text": [
            "120\n"
          ]
        }
      ]
    },
    {
      "cell_type": "code",
      "source": [
        "numbers=[3,7,2,9,5]\n",
        "max_num=reduce(lambda x,y:x if x>y else y,numbers) #find the maximum number\n",
        "print(max_num)"
      ],
      "metadata": {
        "id": "Ff1vttsnHeAK",
        "colab": {
          "base_uri": "https://localhost:8080/",
          "height": 0
        },
        "outputId": "b3e5b29e-71bd-4ded-a408-f8e2e4382863"
      },
      "execution_count": 6,
      "outputs": [
        {
          "output_type": "stream",
          "name": "stdout",
          "text": [
            "9\n"
          ]
        }
      ]
    },
    {
      "cell_type": "code",
      "source": [
        "numbers=[3,7,2,9,5]\n",
        "min_num=reduce(lambda x,y:x if x<y else y,numbers) #find the minimum number\n",
        "print(min_num)"
      ],
      "metadata": {
        "colab": {
          "base_uri": "https://localhost:8080/",
          "height": 0
        },
        "id": "uI0zNyb5IJG_",
        "outputId": "4cb43edf-fc2d-45be-df98-90a2b574d8c5"
      },
      "execution_count": 7,
      "outputs": [
        {
          "output_type": "stream",
          "name": "stdout",
          "text": [
            "2\n"
          ]
        }
      ]
    },
    {
      "cell_type": "code",
      "source": [
        "words=[\"hello\",\"world\",\"python\"]\n",
        "concatenate=reduce(lambda x,y:x+\" \"+y,words) #concatenate all the words\n",
        "print(concatenate)"
      ],
      "metadata": {
        "colab": {
          "base_uri": "https://localhost:8080/",
          "height": 0
        },
        "id": "MgwT_NMMIYvB",
        "outputId": "f289350c-8ae4-4bcf-c112-90753bcaf76d"
      },
      "execution_count": 19,
      "outputs": [
        {
          "output_type": "stream",
          "name": "stdout",
          "text": [
            "hello world python\n"
          ]
        }
      ]
    },
    {
      "cell_type": "code",
      "source": [
        "num=[10,5,2]\n",
        "difference=reduce(lambda x,y: x-y,num) #find the difference between the elements\n",
        "print(difference)"
      ],
      "metadata": {
        "colab": {
          "base_uri": "https://localhost:8080/",
          "height": 0
        },
        "id": "ZU64C_VEI1wz",
        "outputId": "60ad97e5-e04f-49e2-8def-251d5545c962"
      },
      "execution_count": 21,
      "outputs": [
        {
          "output_type": "stream",
          "name": "stdout",
          "text": [
            "3\n"
          ]
        }
      ]
    },
    {
      "cell_type": "code",
      "source": [
        "words=[\"apple\",\"banana\",\"cherry\"]\n",
        "longest_word=reduce(lambda x,y:x if len(x)>len(y) else y,words) #find the longest word\n",
        "print(longest_word) #lambda returns the second argument if their sizes are equal"
      ],
      "metadata": {
        "colab": {
          "base_uri": "https://localhost:8080/",
          "height": 0
        },
        "id": "us07g-o6JpFA",
        "outputId": "f87fb0a0-ac31-447b-e817-9abfd613da9a"
      },
      "execution_count": 27,
      "outputs": [
        {
          "output_type": "stream",
          "name": "stdout",
          "text": [
            "cherry\n"
          ]
        }
      ]
    },
    {
      "cell_type": "code",
      "source": [
        "words=[\"cat\",\"apple\",\"banana\",\"dog\"]\n",
        "last_word=reduce(lambda x,y:x if x>y else y ,words) #find the last word\n",
        "print(last_word)"
      ],
      "metadata": {
        "colab": {
          "base_uri": "https://localhost:8080/",
          "height": 0
        },
        "id": "30MPJCcZKU7N",
        "outputId": "928752b0-30aa-4d08-e0d6-c30bbc36331f"
      },
      "execution_count": 28,
      "outputs": [
        {
          "output_type": "stream",
          "name": "stdout",
          "text": [
            "dog\n"
          ]
        }
      ]
    },
    {
      "cell_type": "markdown",
      "source": [
        "filter () function-filter the elements from the iterable(tuple,list,set) based on some condition.\n",
        "\n",
        "filter(function , iterable)"
      ],
      "metadata": {
        "id": "772aHx-ANMM9"
      }
    },
    {
      "cell_type": "code",
      "source": [
        "nums=[4, 6 ,7,8,10,12,16,18,20]\n",
        "greater10=list(filter(lambda x:x>10,nums)) #filter the numbers greater than 10\n",
        "print(greater10)"
      ],
      "metadata": {
        "colab": {
          "base_uri": "https://localhost:8080/",
          "height": 0
        },
        "id": "YUgWifktNLmb",
        "outputId": "53100b87-b1d1-4402-e7c7-3f08f93c9ddd"
      },
      "execution_count": 29,
      "outputs": [
        {
          "output_type": "stream",
          "name": "stdout",
          "text": [
            "[12, 16, 18, 20]\n"
          ]
        }
      ]
    },
    {
      "cell_type": "code",
      "source": [
        "numbers=[1,2,3,4,5,6,7,8,9]\n",
        "even_num=list(filter(lambda x:x%2==0,numbers)) #filter the even numbers\n",
        "print(even_num)"
      ],
      "metadata": {
        "colab": {
          "base_uri": "https://localhost:8080/",
          "height": 0
        },
        "id": "dVdnUqG8N60U",
        "outputId": "8a3686ef-e2bb-4efc-fb48-c16349d012ab"
      },
      "execution_count": 30,
      "outputs": [
        {
          "output_type": "stream",
          "name": "stdout",
          "text": [
            "[2, 4, 6, 8]\n"
          ]
        }
      ]
    },
    {
      "cell_type": "code",
      "source": [
        "numbers=[1,2,3,4,5,6,7,8,9]\n",
        "odd_num=list(filter(lambda x:x%2!=0,numbers)) #filter the odd numbers\n",
        "print(odd_num)"
      ],
      "metadata": {
        "colab": {
          "base_uri": "https://localhost:8080/",
          "height": 0
        },
        "id": "1SWTMQ3TOCiM",
        "outputId": "a7187dfc-626c-4436-ff7b-200ca4048990"
      },
      "execution_count": 31,
      "outputs": [
        {
          "output_type": "stream",
          "name": "stdout",
          "text": [
            "[1, 3, 5, 7, 9]\n"
          ]
        }
      ]
    },
    {
      "cell_type": "code",
      "source": [
        "words=[\"cat\",\"apple\",\"banana\",\"dog\"]\n",
        "greater_length=list(filter(lambda x:len(x)>4,words)) #filter the words greater than 3\n",
        "print(greater_length)"
      ],
      "metadata": {
        "colab": {
          "base_uri": "https://localhost:8080/",
          "height": 0
        },
        "id": "GTZtQdVKOP_N",
        "outputId": "9475b059-45c6-4ced-8cc2-fb8a316fc2d0"
      },
      "execution_count": 32,
      "outputs": [
        {
          "output_type": "stream",
          "name": "stdout",
          "text": [
            "['apple', 'banana']\n"
          ]
        }
      ]
    },
    {
      "cell_type": "code",
      "source": [
        "numbers=[-3,2,-4,5,-7,8,-9]\n",
        "positive_num=list(filter(lambda x:x>0,numbers)) #filter the positive numbers\n",
        "print(positive_num)"
      ],
      "metadata": {
        "colab": {
          "base_uri": "https://localhost:8080/",
          "height": 0
        },
        "id": "H1WrHHMWOcm8",
        "outputId": "a3ea4520-4e4a-4e52-d774-376f812a3a80"
      },
      "execution_count": 33,
      "outputs": [
        {
          "output_type": "stream",
          "name": "stdout",
          "text": [
            "[2, 5, 8]\n"
          ]
        }
      ]
    },
    {
      "cell_type": "code",
      "source": [
        "alphabets=['a','b','c','d','e','f','g','h','i','v','o','n','u']\n",
        "vowels=list(filter(lambda x:x in \"aeiou\",alphabets)) #filter the vowels\n",
        "print(vowels)"
      ],
      "metadata": {
        "colab": {
          "base_uri": "https://localhost:8080/",
          "height": 0
        },
        "id": "nKy01nLBOpFs",
        "outputId": "fe635a27-cc21-4276-9ac8-61203cc572e4"
      },
      "execution_count": 34,
      "outputs": [
        {
          "output_type": "stream",
          "name": "stdout",
          "text": [
            "['a', 'e', 'i', 'o', 'u']\n"
          ]
        }
      ]
    },
    {
      "cell_type": "code",
      "source": [
        "words=[\"radar\", \"even\",\"mom\", \"dad\",\"code\",\"deed\"]\n",
        "palindromes=list(filter(lambda x:x==x[::-1],words)) #filter the palindromes\n",
        "print(palindromes)"
      ],
      "metadata": {
        "colab": {
          "base_uri": "https://localhost:8080/",
          "height": 0
        },
        "id": "B1yXPR-IPPdM",
        "outputId": "d0588740-d61e-46d9-9753-9448cd1576e9"
      },
      "execution_count": 38,
      "outputs": [
        {
          "output_type": "stream",
          "name": "stdout",
          "text": [
            "['radar', 'mom', 'dad', 'deed']\n"
          ]
        }
      ]
    }
  ]
}