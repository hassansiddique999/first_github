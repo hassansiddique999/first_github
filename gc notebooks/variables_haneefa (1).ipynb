{
  "nbformat": 4,
  "nbformat_minor": 0,
  "metadata": {
    "colab": {
      "provenance": []
    },
    "kernelspec": {
      "name": "python3",
      "display_name": "Python 3"
    },
    "language_info": {
      "name": "python"
    }
  },
  "cells": [
    {
      "cell_type": "code",
      "execution_count": null,
      "metadata": {
        "colab": {
          "base_uri": "https://localhost:8080/"
        },
        "id": "nh0UQIzgBXaB",
        "outputId": "23f0df89-b323-46ee-d89c-fe41127ac15c"
      },
      "outputs": [
        {
          "output_type": "stream",
          "name": "stdout",
          "text": [
            "5\n"
          ]
        }
      ],
      "source": [
        "#derfining a variable #characteristric = dynamicaly typed\n",
        "#vareiables are used to store , manipulate and retrieve the data during program execution\n",
        "x=5 #variaqble assignment , value 5 is given to variable named x #integer variable\n",
        "print(x) #printing the value of variable x\n"
      ]
    },
    {
      "cell_type": "code",
      "source": [
        "print(type(x)) #type casting , in order to know the type of variable"
      ],
      "metadata": {
        "colab": {
          "base_uri": "https://localhost:8080/"
        },
        "id": "5yrB1fsICJn6",
        "outputId": "d9a86e90-3fae-4e52-8cf4-02cb1d956db0"
      },
      "execution_count": null,
      "outputs": [
        {
          "output_type": "stream",
          "name": "stdout",
          "text": [
            "<class 'int'>\n"
          ]
        }
      ]
    },
    {
      "cell_type": "code",
      "source": [
        "y=11.5\n",
        "print(y)\n",
        "print(type(y))"
      ],
      "metadata": {
        "colab": {
          "base_uri": "https://localhost:8080/"
        },
        "id": "lHF9CcHbCwCc",
        "outputId": "ff2dd4c5-e72b-49a3-c436-05299a45f59d"
      },
      "execution_count": null,
      "outputs": [
        {
          "output_type": "stream",
          "name": "stdout",
          "text": [
            "11.5\n",
            "<class 'float'>\n"
          ]
        }
      ]
    },
    {
      "cell_type": "code",
      "source": [
        "#string= set of characters in single or double quotaATION\n",
        "string=\"haneefa\" #string in double quotations\n",
        "print(string)"
      ],
      "metadata": {
        "colab": {
          "base_uri": "https://localhost:8080/"
        },
        "id": "fSIwUFTWBvzT",
        "outputId": "c797854d-126e-4cc2-fece-b9d56e5c2ce1"
      },
      "execution_count": null,
      "outputs": [
        {
          "output_type": "stream",
          "name": "stdout",
          "text": [
            "haneefa\n"
          ]
        }
      ]
    },
    {
      "cell_type": "code",
      "source": [
        "name='haneefa'\n",
        "print(name)"
      ],
      "metadata": {
        "colab": {
          "base_uri": "https://localhost:8080/"
        },
        "id": "sodG5OHUB-za",
        "outputId": "27c6f77f-9005-40d2-ae01-d70688a69a15"
      },
      "execution_count": null,
      "outputs": [
        {
          "output_type": "stream",
          "name": "stdout",
          "text": [
            "haneefa\n"
          ]
        }
      ]
    },
    {
      "cell_type": "code",
      "source": [
        "print(type(name))"
      ],
      "metadata": {
        "colab": {
          "base_uri": "https://localhost:8080/"
        },
        "id": "Hx5GPJGLCDrL",
        "outputId": "f4feba3b-f247-4079-aa08-4efe09c14d30"
      },
      "execution_count": null,
      "outputs": [
        {
          "output_type": "stream",
          "name": "stdout",
          "text": [
            "<class 'str'>\n"
          ]
        }
      ]
    },
    {
      "cell_type": "code",
      "source": [
        "a=10\n",
        "b=10.5\n",
        "c= \"python\"\n",
        "d=3+4j\n",
        "e=True\n",
        "print(type(a))\n",
        "print(type(b))\n",
        "print(type(c))\n",
        "print(type(d))\n",
        "print(type(e)) #the type is inferred by default based on the value stored"
      ],
      "metadata": {
        "colab": {
          "base_uri": "https://localhost:8080/"
        },
        "id": "X__AsOhvDBqo",
        "outputId": "9879e169-8b8f-4d30-b292-9e9f5c98e689"
      },
      "execution_count": null,
      "outputs": [
        {
          "output_type": "stream",
          "name": "stdout",
          "text": [
            "<class 'int'>\n",
            "<class 'float'>\n",
            "<class 'str'>\n",
            "<class 'complex'>\n",
            "<class 'bool'>\n"
          ]
        }
      ]
    },
    {
      "cell_type": "code",
      "source": [
        "#python variables are case-senitive (lower case and upper case are way different from each other), all the variable below are stored in different m,emorery locationbs\n",
        "age=10\n",
        "AGE=10\n",
        "Age=10\n",
        "aGe=10\n",
        "agE=10\n",
        "#all these are identical\n",
        "print(age)\n",
        "print(AGE)\n",
        "print(Age)\n",
        "print(aGe)\n",
        "print(agE)"
      ],
      "metadata": {
        "colab": {
          "base_uri": "https://localhost:8080/"
        },
        "id": "2-caT3UUDzK-",
        "outputId": "760b2c4c-85ab-4615-fd78-55c8266b28d8"
      },
      "execution_count": null,
      "outputs": [
        {
          "output_type": "stream",
          "name": "stdout",
          "text": [
            "10\n",
            "10\n",
            "10\n",
            "10\n",
            "10\n"
          ]
        }
      ]
    },
    {
      "cell_type": "code",
      "source": [
        "#rules for namaing a variable\n",
        "#it must begin with a letter or underscore(_)\n",
        "#you cannot start the variable name with a 'digit'\n",
        "#con contain letter, numbers and underscore \"haneefa_123\"\n",
        "#you cannot start a variable mname with a \"reserved keywords\"\n",
        "#you cannont use a special character as variable name !@#$%&*^\n",
        "#case sensitive part\n",
        "#u cannot use soaces in naming a variable\n",
        "#you cannot use a hyphen(-) in variable naming\n",
        "#using a descriptive and meaningful variables names."
      ],
      "metadata": {
        "id": "Fivzb6bYEc8t"
      },
      "execution_count": null,
      "outputs": []
    },
    {
      "cell_type": "code",
      "source": [
        "name=\"haneefa\"\n",
        "_name=\"haneefa\"\n",
        "_name_=\"haneefa\"\n",
        "print(_name)"
      ],
      "metadata": {
        "colab": {
          "base_uri": "https://localhost:8080/"
        },
        "id": "D8Rlwq-RGVnK",
        "outputId": "89b9b609-a6d3-4799-950d-4df64b1a97b9"
      },
      "execution_count": null,
      "outputs": [
        {
          "output_type": "stream",
          "name": "stdout",
          "text": [
            "haneefa\n"
          ]
        }
      ]
    },
    {
      "cell_type": "code",
      "source": [
        "123name=\"haneefa\"\n",
        "print(123name)"
      ],
      "metadata": {
        "colab": {
          "base_uri": "https://localhost:8080/",
          "height": 106
        },
        "id": "Wincz9OrGhME",
        "outputId": "6be977ad-6667-474a-e153-66c3b53bb38c"
      },
      "execution_count": null,
      "outputs": [
        {
          "output_type": "error",
          "ename": "SyntaxError",
          "evalue": "invalid decimal literal (<ipython-input-12-0a5488ff9aa8>, line 1)",
          "traceback": [
            "\u001b[0;36m  File \u001b[0;32m\"<ipython-input-12-0a5488ff9aa8>\"\u001b[0;36m, line \u001b[0;32m1\u001b[0m\n\u001b[0;31m    123name=\"haneefa\"\u001b[0m\n\u001b[0m      ^\u001b[0m\n\u001b[0;31mSyntaxError\u001b[0m\u001b[0;31m:\u001b[0m invalid decimal literal\n"
          ]
        }
      ]
    },
    {
      "cell_type": "code",
      "source": [
        "1name=\"haneefa\" #invalid variable\n",
        "print(1name)"
      ],
      "metadata": {
        "colab": {
          "base_uri": "https://localhost:8080/",
          "height": 106
        },
        "id": "_8bf-JtZGmDU",
        "outputId": "5f6f6627-ab7b-41db-b952-880b7ff7f4a1"
      },
      "execution_count": null,
      "outputs": [
        {
          "output_type": "error",
          "ename": "SyntaxError",
          "evalue": "invalid decimal literal (<ipython-input-13-e082cc9f7302>, line 1)",
          "traceback": [
            "\u001b[0;36m  File \u001b[0;32m\"<ipython-input-13-e082cc9f7302>\"\u001b[0;36m, line \u001b[0;32m1\u001b[0m\n\u001b[0;31m    1name=\"haneefa\"\u001b[0m\n\u001b[0m    ^\u001b[0m\n\u001b[0;31mSyntaxError\u001b[0m\u001b[0;31m:\u001b[0m invalid decimal literal\n"
          ]
        }
      ]
    },
    {
      "cell_type": "code",
      "source": [
        "haneefa_123= 12 #valid variable names\n",
        "_hani21=13\n",
        "_123_hani=14\n",
        "hani123_=15\n",
        "print(haneefa_123)\n",
        "print(_hani21)\n",
        "print(_123_hani)\n",
        "print(hani123_)"
      ],
      "metadata": {
        "colab": {
          "base_uri": "https://localhost:8080/"
        },
        "id": "K4DZV_kpGrX6",
        "outputId": "a38a4764-8616-4e61-f230-38c45c9cc0b9"
      },
      "execution_count": null,
      "outputs": [
        {
          "output_type": "stream",
          "name": "stdout",
          "text": [
            "12\n",
            "13\n",
            "14\n",
            "15\n"
          ]
        }
      ]
    },
    {
      "cell_type": "code",
      "source": [
        "#reserved keywords\n",
        "import keyword\n",
        "print(keyword.kwlist) #kwlist=keyword\n"
      ],
      "metadata": {
        "colab": {
          "base_uri": "https://localhost:8080/"
        },
        "id": "1FjzyugQHBgX",
        "outputId": "5793c3a7-34ff-4b11-d77a-d91c66753d10"
      },
      "execution_count": null,
      "outputs": [
        {
          "output_type": "stream",
          "name": "stdout",
          "text": [
            "['False', 'None', 'True', 'and', 'as', 'assert', 'async', 'await', 'break', 'class', 'continue', 'def', 'del', 'elif', 'else', 'except', 'finally', 'for', 'from', 'global', 'if', 'import', 'in', 'is', 'lambda', 'nonlocal', 'not', 'or', 'pass', 'raise', 'return', 'try', 'while', 'with', 'yield']\n"
          ]
        }
      ]
    },
    {
      "cell_type": "code",
      "source": [
        "False=12\n",
        "print(False)"
      ],
      "metadata": {
        "colab": {
          "base_uri": "https://localhost:8080/",
          "height": 106
        },
        "id": "0VoBzpaMHHqg",
        "outputId": "71b239b5-7abf-4f54-c3fa-b2f69cff0d33"
      },
      "execution_count": null,
      "outputs": [
        {
          "output_type": "error",
          "ename": "SyntaxError",
          "evalue": "cannot assign to False (<ipython-input-17-95f1498cd418>, line 1)",
          "traceback": [
            "\u001b[0;36m  File \u001b[0;32m\"<ipython-input-17-95f1498cd418>\"\u001b[0;36m, line \u001b[0;32m1\u001b[0m\n\u001b[0;31m    False=12\u001b[0m\n\u001b[0m    ^\u001b[0m\n\u001b[0;31mSyntaxError\u001b[0m\u001b[0;31m:\u001b[0m cannot assign to False\n"
          ]
        }
      ]
    },
    {
      "cell_type": "code",
      "source": [
        "class=16\n",
        "print(class)"
      ],
      "metadata": {
        "colab": {
          "base_uri": "https://localhost:8080/",
          "height": 106
        },
        "id": "AMY6NLIOHRlH",
        "outputId": "5374d190-86c0-414f-ae5d-8cdf3c88f321"
      },
      "execution_count": null,
      "outputs": [
        {
          "output_type": "error",
          "ename": "SyntaxError",
          "evalue": "invalid syntax (<ipython-input-19-494a132e2159>, line 1)",
          "traceback": [
            "\u001b[0;36m  File \u001b[0;32m\"<ipython-input-19-494a132e2159>\"\u001b[0;36m, line \u001b[0;32m1\u001b[0m\n\u001b[0;31m    class=16\u001b[0m\n\u001b[0m         ^\u001b[0m\n\u001b[0;31mSyntaxError\u001b[0m\u001b[0;31m:\u001b[0m invalid syntax\n"
          ]
        }
      ]
    },
    {
      "cell_type": "code",
      "source": [
        "for=5 #you cant use a reserved keyword as variable name\n",
        "print(for)"
      ],
      "metadata": {
        "colab": {
          "base_uri": "https://localhost:8080/",
          "height": 106
        },
        "id": "PlhgGcP8HVDk",
        "outputId": "38f96f32-9664-4918-a4e1-172bbcc9800a"
      },
      "execution_count": null,
      "outputs": [
        {
          "output_type": "error",
          "ename": "SyntaxError",
          "evalue": "invalid syntax (<ipython-input-20-375b63373219>, line 1)",
          "traceback": [
            "\u001b[0;36m  File \u001b[0;32m\"<ipython-input-20-375b63373219>\"\u001b[0;36m, line \u001b[0;32m1\u001b[0m\n\u001b[0;31m    for=5 #you cant use a reserved keyword as variable name\u001b[0m\n\u001b[0m       ^\u001b[0m\n\u001b[0;31mSyntaxError\u001b[0m\u001b[0;31m:\u001b[0m invalid syntax\n"
          ]
        }
      ]
    },
    {
      "cell_type": "code",
      "source": [
        "#!@$%&*^- mspecial characters canoot be used as variable name\n",
        "#name=\"python world\"\n",
        "print(#name)\n"
      ],
      "metadata": {
        "colab": {
          "base_uri": "https://localhost:8080/",
          "height": 106
        },
        "id": "XNLJ-IA9HgzE",
        "outputId": "199ae8d8-1877-42b0-d40b-48ca4614dd91"
      },
      "execution_count": null,
      "outputs": [
        {
          "output_type": "error",
          "ename": "SyntaxError",
          "evalue": "incomplete input (<ipython-input-21-ef256aae02cb>, line 3)",
          "traceback": [
            "\u001b[0;36m  File \u001b[0;32m\"<ipython-input-21-ef256aae02cb>\"\u001b[0;36m, line \u001b[0;32m3\u001b[0m\n\u001b[0;31m    print(#name)\u001b[0m\n\u001b[0m                ^\u001b[0m\n\u001b[0;31mSyntaxError\u001b[0m\u001b[0;31m:\u001b[0m incomplete input\n"
          ]
        }
      ]
    },
    {
      "cell_type": "code",
      "source": [
        "@name=\"python world\"\n",
        "print(@name)"
      ],
      "metadata": {
        "colab": {
          "base_uri": "https://localhost:8080/",
          "height": 106
        },
        "id": "tSC6uoJYHvXc",
        "outputId": "85b855b4-36a5-4461-b5cc-2771c5e9981f"
      },
      "execution_count": null,
      "outputs": [
        {
          "output_type": "error",
          "ename": "SyntaxError",
          "evalue": "invalid syntax. Maybe you meant '==' or ':=' instead of '='? (<ipython-input-22-ff6e096a5299>, line 1)",
          "traceback": [
            "\u001b[0;36m  File \u001b[0;32m\"<ipython-input-22-ff6e096a5299>\"\u001b[0;36m, line \u001b[0;32m1\u001b[0m\n\u001b[0;31m    @name=\"python world\"\u001b[0m\n\u001b[0m     ^\u001b[0m\n\u001b[0;31mSyntaxError\u001b[0m\u001b[0;31m:\u001b[0m invalid syntax. Maybe you meant '==' or ':=' instead of '='?\n"
          ]
        }
      ]
    },
    {
      "cell_type": "code",
      "source": [
        "!name=\"python world\"\n",
        "print(!name)"
      ],
      "metadata": {
        "colab": {
          "base_uri": "https://localhost:8080/",
          "height": 106
        },
        "id": "q6s1uVVmHwuY",
        "outputId": "8bc25324-e2fd-4de7-98cb-805d2ee73504"
      },
      "execution_count": null,
      "outputs": [
        {
          "output_type": "error",
          "ename": "SyntaxError",
          "evalue": "invalid syntax (<ipython-input-23-151e3a970eff>, line 2)",
          "traceback": [
            "\u001b[0;36m  File \u001b[0;32m\"<ipython-input-23-151e3a970eff>\"\u001b[0;36m, line \u001b[0;32m2\u001b[0m\n\u001b[0;31m    print(!name)\u001b[0m\n\u001b[0m          ^\u001b[0m\n\u001b[0;31mSyntaxError\u001b[0m\u001b[0;31m:\u001b[0m invalid syntax\n"
          ]
        }
      ]
    },
    {
      "cell_type": "code",
      "source": [
        "&name=\"python world\"\n",
        "print(&name)"
      ],
      "metadata": {
        "colab": {
          "base_uri": "https://localhost:8080/",
          "height": 106
        },
        "id": "kDucvWCCHzr0",
        "outputId": "10d5954b-1043-4b41-f7f3-38ab3d11c007"
      },
      "execution_count": null,
      "outputs": [
        {
          "output_type": "error",
          "ename": "SyntaxError",
          "evalue": "invalid syntax (<ipython-input-24-d8b4bf8d81bf>, line 1)",
          "traceback": [
            "\u001b[0;36m  File \u001b[0;32m\"<ipython-input-24-d8b4bf8d81bf>\"\u001b[0;36m, line \u001b[0;32m1\u001b[0m\n\u001b[0;31m    &name=\"python world\"\u001b[0m\n\u001b[0m    ^\u001b[0m\n\u001b[0;31mSyntaxError\u001b[0m\u001b[0;31m:\u001b[0m invalid syntax\n"
          ]
        }
      ]
    },
    {
      "cell_type": "code",
      "source": [
        "%name=\"python world\"\n",
        "print(%name)"
      ],
      "metadata": {
        "colab": {
          "base_uri": "https://localhost:8080/",
          "height": 106
        },
        "id": "wFQsgMLZH1n4",
        "outputId": "a3ad43d8-5c5b-4f64-911d-21538d012570"
      },
      "execution_count": null,
      "outputs": [
        {
          "output_type": "error",
          "ename": "SyntaxError",
          "evalue": "invalid syntax (<ipython-input-25-f127fc9b3d23>, line 2)",
          "traceback": [
            "\u001b[0;36m  File \u001b[0;32m\"<ipython-input-25-f127fc9b3d23>\"\u001b[0;36m, line \u001b[0;32m2\u001b[0m\n\u001b[0;31m    print(%name)\u001b[0m\n\u001b[0m          ^\u001b[0m\n\u001b[0;31mSyntaxError\u001b[0m\u001b[0;31m:\u001b[0m invalid syntax\n"
          ]
        }
      ]
    },
    {
      "cell_type": "code",
      "source": [
        "#why we cannot use special characters as variable names? whats the reaosn behind...\n",
        "\n",
        "!= not operator\n",
        "#= use for comments\n",
        "$= limited scwenerios's as in sstring formatting\n",
        "%=modulus(remainder)\n",
        "&= decorators\n",
        "*= bitwise operation"
      ],
      "metadata": {
        "id": "C1H1Y7dsH4nb"
      },
      "execution_count": null,
      "outputs": []
    },
    {
      "cell_type": "code",
      "source": [
        "total score=100  #spaces are not allowed\n",
        "print(total score)"
      ],
      "metadata": {
        "colab": {
          "base_uri": "https://localhost:8080/",
          "height": 106
        },
        "id": "wXlIn8AWIxYV",
        "outputId": "ad1448ca-fbc8-4a0b-f44e-d453cc7cc3c4"
      },
      "execution_count": null,
      "outputs": [
        {
          "output_type": "error",
          "ename": "SyntaxError",
          "evalue": "invalid syntax (<ipython-input-26-fc8f997c4017>, line 1)",
          "traceback": [
            "\u001b[0;36m  File \u001b[0;32m\"<ipython-input-26-fc8f997c4017>\"\u001b[0;36m, line \u001b[0;32m1\u001b[0m\n\u001b[0;31m    total score=100\u001b[0m\n\u001b[0m          ^\u001b[0m\n\u001b[0;31mSyntaxError\u001b[0m\u001b[0;31m:\u001b[0m invalid syntax\n"
          ]
        }
      ]
    },
    {
      "cell_type": "code",
      "source": [
        "total_score=100\n",
        "print(total_score)"
      ],
      "metadata": {
        "colab": {
          "base_uri": "https://localhost:8080/"
        },
        "id": "O_ofKHLNIzX2",
        "outputId": "e073d974-8e94-4f37-bc70-027156e95886"
      },
      "execution_count": null,
      "outputs": [
        {
          "output_type": "stream",
          "name": "stdout",
          "text": [
            "100\n"
          ]
        }
      ]
    },
    {
      "cell_type": "code",
      "source": [
        "my-student=\"haneefa\"\n",
        "print(my-student)"
      ],
      "metadata": {
        "colab": {
          "base_uri": "https://localhost:8080/",
          "height": 106
        },
        "id": "Zg1M8H5vJFpw",
        "outputId": "d071c162-5fc0-47e4-c437-333586beb3a9"
      },
      "execution_count": null,
      "outputs": [
        {
          "output_type": "error",
          "ename": "SyntaxError",
          "evalue": "cannot assign to expression here. Maybe you meant '==' instead of '='? (<ipython-input-28-de7cd471d8e5>, line 1)",
          "traceback": [
            "\u001b[0;36m  File \u001b[0;32m\"<ipython-input-28-de7cd471d8e5>\"\u001b[0;36m, line \u001b[0;32m1\u001b[0m\n\u001b[0;31m    my-student=\"haneefa\"\u001b[0m\n\u001b[0m    ^\u001b[0m\n\u001b[0;31mSyntaxError\u001b[0m\u001b[0;31m:\u001b[0m cannot assign to expression here. Maybe you meant '==' instead of '='?\n"
          ]
        }
      ]
    },
    {
      "cell_type": "code",
      "source": [
        "my_student=\"haneefa\"\n",
        "print(my_student)"
      ],
      "metadata": {
        "colab": {
          "base_uri": "https://localhost:8080/"
        },
        "id": "cbXtd58WJIpi",
        "outputId": "64491351-d126-429b-a90d-03a6a866251c"
      },
      "execution_count": null,
      "outputs": [
        {
          "output_type": "stream",
          "name": "stdout",
          "text": [
            "haneefa\n"
          ]
        }
      ]
    },
    {
      "cell_type": "code",
      "source": [
        "#start with letters (a-z) or (A-Z)\n",
        "#you can have number(0-9) but not the start\n"
      ],
      "metadata": {
        "id": "N_50OGtIJLea"
      },
      "execution_count": null,
      "outputs": []
    },
    {
      "cell_type": "code",
      "source": [
        "#use descriptive names to the vareible\n",
        "#cakculate the area ofd circlre\n",
        "r=5\n",
        "a=3.14*r*r #this is a bad way of represenation\n",
        "print(a)"
      ],
      "metadata": {
        "colab": {
          "base_uri": "https://localhost:8080/"
        },
        "id": "YQiR4YskJnx8",
        "outputId": "9b27f867-629a-46ed-9daa-3bd590a74e63"
      },
      "execution_count": null,
      "outputs": [
        {
          "output_type": "stream",
          "name": "stdout",
          "text": [
            "78.5\n"
          ]
        }
      ]
    },
    {
      "cell_type": "code",
      "source": [
        "#chhose a meaningful and descriptive way oin ordeer to define a varible\n",
        "radius=6\n",
        "area_of_circle=3.14*radius*radius\n",
        "print(area_of_circle)"
      ],
      "metadata": {
        "colab": {
          "base_uri": "https://localhost:8080/"
        },
        "id": "VtTB2HsJJ1EX",
        "outputId": "b1a6f441-2829-4b97-d841-7e2a94b0286b"
      },
      "execution_count": null,
      "outputs": [
        {
          "output_type": "stream",
          "name": "stdout",
          "text": [
            "113.03999999999999\n"
          ]
        }
      ]
    },
    {
      "cell_type": "code",
      "source": [],
      "metadata": {
        "id": "vF3XcmTKKJ-M"
      },
      "execution_count": null,
      "outputs": []
    }
  ]
}