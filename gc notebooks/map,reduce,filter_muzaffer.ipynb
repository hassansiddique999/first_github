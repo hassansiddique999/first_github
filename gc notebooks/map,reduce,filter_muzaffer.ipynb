{
  "nbformat": 4,
  "nbformat_minor": 0,
  "metadata": {
    "colab": {
      "provenance": []
    },
    "kernelspec": {
      "name": "python3",
      "display_name": "Python 3"
    },
    "language_info": {
      "name": "python"
    }
  },
  "cells": [
    {
      "cell_type": "code",
      "execution_count": null,
      "metadata": {
        "id": "rQ71aB8l-9Q8"
      },
      "outputs": [],
      "source": []
    },
    {
      "cell_type": "markdown",
      "source": [
        "map"
      ],
      "metadata": {
        "id": "5Tv9KI7D_D07"
      }
    },
    {
      "cell_type": "code",
      "source": [],
      "metadata": {
        "id": "FQCjopsn_E-k"
      },
      "execution_count": null,
      "outputs": []
    },
    {
      "cell_type": "code",
      "source": [
        "#map(function,iterable)\n",
        "numbers=[1,2,3,4,5,6] #iterable ,list\n",
        "#square of each element in the list\n",
        "squared_num=list(map(lambda x:x**2,numbers)) #apply square to each element\n",
        "print(squared_num)"
      ],
      "metadata": {
        "colab": {
          "base_uri": "https://localhost:8080/"
        },
        "id": "ObBA0dxV_FwW",
        "outputId": "c3e56fff-451e-4f2c-f4ed-30ae5190de57"
      },
      "execution_count": 1,
      "outputs": [
        {
          "output_type": "stream",
          "name": "stdout",
          "text": [
            "[1, 4, 9, 16, 25, 36]\n"
          ]
        }
      ]
    },
    {
      "cell_type": "code",
      "source": [
        "numbers=[1,2,3,4,5] #iterable ,list\n",
        "squared_numbers=map(lambda x:x*x,numbers) #its an iterator\n",
        "\n",
        "#get the first number squred\n",
        "first_squared=next(squared_numbers) #next element of iterator\n",
        "print(first_squared)"
      ],
      "metadata": {
        "colab": {
          "base_uri": "https://localhost:8080/"
        },
        "id": "1H4XCh6J_2qh",
        "outputId": "065c4aa8-0f78-40fe-a2f1-94b5e901f0aa"
      },
      "execution_count": 2,
      "outputs": [
        {
          "output_type": "stream",
          "name": "stdout",
          "text": [
            "1\n"
          ]
        }
      ]
    },
    {
      "cell_type": "code",
      "source": [
        "second_squared=next(squared_numbers)\n",
        "print(second_squared)"
      ],
      "metadata": {
        "colab": {
          "base_uri": "https://localhost:8080/"
        },
        "id": "J_Adn4Bw_xW_",
        "outputId": "10de92e3-5c2a-4832-a372-f6a66680f826"
      },
      "execution_count": 3,
      "outputs": [
        {
          "output_type": "stream",
          "name": "stdout",
          "text": [
            "4\n"
          ]
        }
      ]
    },
    {
      "cell_type": "code",
      "source": [
        "third_squared=next(squared_numbers)\n",
        "print(third_squared)"
      ],
      "metadata": {
        "colab": {
          "base_uri": "https://localhost:8080/"
        },
        "id": "yKs_iqFtAXBr",
        "outputId": "66be5387-0970-4bc5-d778-30e2f9ee36c9"
      },
      "execution_count": 4,
      "outputs": [
        {
          "output_type": "stream",
          "name": "stdout",
          "text": [
            "9\n"
          ]
        }
      ]
    },
    {
      "cell_type": "code",
      "source": [
        "#memory efficient\n",
        "#large dataset= it would requireed a significant amount of memeoryu to store all the results\n",
        "#on demand generation  --iterator -- whn yopu ask for it"
      ],
      "metadata": {
        "id": "7zNTxikAA02h"
      },
      "execution_count": null,
      "outputs": []
    },
    {
      "cell_type": "code",
      "source": [
        "celcius=[0,20,37,100]\n",
        "fahrenheit=list(map(lambda x:(x*9/5)+32,celcius)) #convert celcius to farenhiet\n",
        "print(fahrenheit)"
      ],
      "metadata": {
        "colab": {
          "base_uri": "https://localhost:8080/"
        },
        "id": "fSXCUY0aBo2E",
        "outputId": "c849426f-ae93-4a24-8122-cf9f0816ead0"
      },
      "execution_count": 5,
      "outputs": [
        {
          "output_type": "stream",
          "name": "stdout",
          "text": [
            "[32.0, 68.0, 98.6, 212.0]\n"
          ]
        }
      ]
    },
    {
      "cell_type": "code",
      "source": [
        "num=[5,10,15]\n",
        "updated_nums=list(map(lambda x:x+10,num)) #add 10 to each element\n",
        "print(updated_nums)"
      ],
      "metadata": {
        "colab": {
          "base_uri": "https://localhost:8080/"
        },
        "id": "tYlkxjSqCJqQ",
        "outputId": "95cbdd5a-860c-43c5-820c-a5aa9c187305"
      },
      "execution_count": 6,
      "outputs": [
        {
          "output_type": "stream",
          "name": "stdout",
          "text": [
            "[15, 20, 25]\n"
          ]
        }
      ]
    },
    {
      "cell_type": "code",
      "source": [
        "names=[\"john\",\"muzaffer\", \"ali\"]\n",
        "uuper_names=list(map(lambda x:x.upper(),names)) #convert to upper case\n",
        "print(uuper_names)"
      ],
      "metadata": {
        "colab": {
          "base_uri": "https://localhost:8080/"
        },
        "id": "dvP2TXZZCgPs",
        "outputId": "1320c99a-1fe5-4838-82c4-c5598f1ab54b"
      },
      "execution_count": 7,
      "outputs": [
        {
          "output_type": "stream",
          "name": "stdout",
          "text": [
            "['JOHN', 'MUZAFFER', 'ALI']\n"
          ]
        }
      ]
    },
    {
      "cell_type": "code",
      "source": [
        "list1=[1,2,5]\n",
        "list2=[4,5,6]\n",
        "product=list(map(lambda x,y:x*y,list1,list2)) #multiplying the corresponding values\n",
        "print(product)"
      ],
      "metadata": {
        "colab": {
          "base_uri": "https://localhost:8080/"
        },
        "id": "wT9fX9d4Cwmv",
        "outputId": "9d6ab9ff-8899-40b1-b657-5a3ff192d4d6"
      },
      "execution_count": 8,
      "outputs": [
        {
          "output_type": "stream",
          "name": "stdout",
          "text": [
            "[4, 10, 30]\n"
          ]
        }
      ]
    },
    {
      "cell_type": "code",
      "source": [
        "words=[\"hello\", \"hey\", \"can\", \"i\", \"ask\", \"you\", \"something\"]\n",
        "exclmtion=list(map(lambda x:x+\"!\",words)) #add ! to each element #iterator is going to each elementu and adding ! to each word\n",
        "print(exclmtion) #memory minimization"
      ],
      "metadata": {
        "colab": {
          "base_uri": "https://localhost:8080/"
        },
        "id": "4X15al6dDHN-",
        "outputId": "4262d8e2-bcb4-4822-ed22-5c5251957d71"
      },
      "execution_count": 9,
      "outputs": [
        {
          "output_type": "stream",
          "name": "stdout",
          "text": [
            "['hello!', 'hey!', 'can!', 'i!', 'ask!', 'you!', 'something!']\n"
          ]
        }
      ]
    },
    {
      "cell_type": "code",
      "source": [
        "num=[1,2,3,4,5,6]\n",
        "is_even=list(map(lambda x:x%2==0,num)) #check if the number is even\n",
        "print(is_even) #true false"
      ],
      "metadata": {
        "colab": {
          "base_uri": "https://localhost:8080/"
        },
        "id": "859A95weD5SA",
        "outputId": "982e7c9e-47b3-4835-b7a4-272a02581229"
      },
      "execution_count": 10,
      "outputs": [
        {
          "output_type": "stream",
          "name": "stdout",
          "text": [
            "[False, True, False, True, False, True]\n"
          ]
        }
      ]
    },
    {
      "cell_type": "code",
      "source": [
        "sentences=[\"hello world\", \"python programming\"]\n",
        "underscore=list(map(lambda x:x.replace(\" \",\"_\"), sentences))\n",
        "print(underscore)"
      ],
      "metadata": {
        "colab": {
          "base_uri": "https://localhost:8080/"
        },
        "id": "yBX2ltNwENUQ",
        "outputId": "4177fb39-e1b0-4ae6-89fe-12070dc6a854"
      },
      "execution_count": 14,
      "outputs": [
        {
          "output_type": "stream",
          "name": "stdout",
          "text": [
            "['hello_world', 'python_programming']\n"
          ]
        }
      ]
    },
    {
      "cell_type": "code",
      "source": [],
      "metadata": {
        "id": "LHSVHXCUE3ns"
      },
      "execution_count": null,
      "outputs": []
    },
    {
      "cell_type": "markdown",
      "source": [
        "reeduce()--cumulative result--single elemnt\n",
        "\n",
        "-single cummulative result\n"
      ],
      "metadata": {
        "id": "k0xAFzMVFreF"
      }
    },
    {
      "cell_type": "markdown",
      "source": [],
      "metadata": {
        "id": "nvNrlYrCIR4_"
      }
    },
    {
      "cell_type": "code",
      "source": [
        "from functools import reduce\n"
      ],
      "metadata": {
        "id": "Rso4aEGyFs6z"
      },
      "execution_count": 16,
      "outputs": []
    },
    {
      "cell_type": "code",
      "source": [
        "numbers=[1,2,3,4,5]\n",
        "sum_num=reduce(lambda x,y:x+y,numbers) #add all the elements\n",
        "print(sum_num)"
      ],
      "metadata": {
        "colab": {
          "base_uri": "https://localhost:8080/"
        },
        "id": "CjnipUOaGt-W",
        "outputId": "9bda26ef-eaa3-4523-fa90-ffcf30d3d02f"
      },
      "execution_count": 17,
      "outputs": [
        {
          "output_type": "stream",
          "name": "stdout",
          "text": [
            "15\n"
          ]
        }
      ]
    },
    {
      "cell_type": "code",
      "source": [
        "numbers=[1,2,3,4,5]\n",
        "product=reduce(lambda x,y:x*y,numbers) #multiply all the elements\n",
        "print(product)"
      ],
      "metadata": {
        "colab": {
          "base_uri": "https://localhost:8080/"
        },
        "id": "dkbQHaa7HXib",
        "outputId": "a0cc194f-fc69-42f0-b55e-c44bcdddf26d"
      },
      "execution_count": 18,
      "outputs": [
        {
          "output_type": "stream",
          "name": "stdout",
          "text": [
            "120\n"
          ]
        }
      ]
    }
  ]
}