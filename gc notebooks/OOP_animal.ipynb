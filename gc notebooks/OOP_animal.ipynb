{
  "nbformat": 4,
  "nbformat_minor": 0,
  "metadata": {
    "colab": {
      "provenance": []
    },
    "kernelspec": {
      "name": "python3",
      "display_name": "Python 3"
    },
    "language_info": {
      "name": "python"
    }
  },
  "cells": [
    {
      "cell_type": "code",
      "execution_count": null,
      "metadata": {
        "id": "77FVgfMn6lj_"
      },
      "outputs": [],
      "source": []
    },
    {
      "cell_type": "markdown",
      "source": [
        "oop example for ANIMAL TEMPALTE"
      ],
      "metadata": {
        "id": "_ec_fHI7JaeQ"
      }
    },
    {
      "cell_type": "markdown",
      "source": [
        "animal class: parent class"
      ],
      "metadata": {
        "id": "6Uye4ZQ27Udm"
      }
    },
    {
      "cell_type": "code",
      "source": [
        "class Animal: #blue print as a structure of paent class\n",
        "  def __init__(self,name,sound): #constructor for animal class initializing the attribute and method\n",
        "   self.name=name #encapsulated attributed that is acccesed by specific child classes\n",
        "   self.sound=sound #attribute of an animal(the sounf animal makes)\n",
        "\n",
        "  #common interface(method to make the animal speak) #it would behave differently for different sub classes(chold classes)\n",
        "  def make_sound(self):\n",
        "    return f\" {self.name} makes a sound: {self.sound}\""
      ],
      "metadata": {
        "id": "Uh0kqFI87XcJ"
      },
      "execution_count": 23,
      "outputs": []
    },
    {
      "cell_type": "code",
      "source": [
        "#child class 1\n",
        "class Dog(Animal): #inherited from parent class\n",
        "  def __init__(self,name,breed): #initialized specific to child class\n",
        "    super().__init__(name,sound=\"Bark\") #inherited from parent and set the specific sound the dog makes #coomon interface that dog is usuing for different behavior\n",
        "    self.breed=breed #additona/new atrtribute of dog class\n",
        "\n",
        "  #method specific to dog #behavior\n",
        "  def fetch(self):\n",
        "    return f\"{self.name} is fetching the ball !!!!\"\n",
        "\n",
        "  def eat(self):\n",
        "    return f\"{self.name} is eating\"\n",
        "\n",
        "  def sleep(self):\n",
        "    return f\"{self.name} is sleeping\"\n",
        "\n",
        "  def energy_level(self):\n",
        "    return f\"{self.name} is having a good energy level\"\n",
        "\n",
        ""
      ],
      "metadata": {
        "id": "otZMRKrO8xfi"
      },
      "execution_count": 24,
      "outputs": []
    },
    {
      "cell_type": "code",
      "source": [
        "#child class 2 #cat\n",
        "class Cat(Animal): #inherited from base class(parent class)\n",
        "  def __init__(self,name,colors):\n",
        "    super().__init__(name,sound=\"Moew\") #inheritred from parent class and makes the sound differently (coomon interface )\n",
        "    self.colors=colors #new attribute specific to cat\n",
        "# these all methods are specific to cat class (they are not inherited from parent class)\n",
        "  def eat(self):\n",
        "    return f\"{self.name} is eating\"\n",
        "\n",
        "  def sleep(self):\n",
        "    return f\"{self.name} is sleeping\"\n",
        "\n",
        "  def scratch(self):\n",
        "    return f\"{self.name} is scratching the furniture\"\n",
        "\n",
        "  def energy_level(self):\n",
        "    return f\"{self.name} is having a good energy level\"\n",
        "\n"
      ],
      "metadata": {
        "id": "F-jkauR_8-C-"
      },
      "execution_count": 25,
      "outputs": []
    },
    {
      "cell_type": "code",
      "source": [
        "#child class 3 #bird\n",
        "class Bird(Animal):\n",
        "  def __init__(self,name,can_fly=True): #initiliaziation  constructor for class bird\n",
        "    super().__init__(name,sound=\"Chirp\") #coomon interfce for making the sound , inhertied from paremt class\n",
        "    self.can_fly=can_fly #addtiona/new attribute for birds\n",
        "\n",
        "  def fly(self): #method specific to bird\n",
        "    return f\"{self.name} is flying high in the sky\"\n",
        "\n",
        "  def eat(self): #method specific to bird\n",
        "    return f\"{self.name} is eating\"\n",
        "\n",
        "\n"
      ],
      "metadata": {
        "id": "0cLUYu3WBgBA"
      },
      "execution_count": 26,
      "outputs": []
    },
    {
      "cell_type": "code",
      "source": [
        "#child class 4: fish\n",
        "class Fish(Animal):\n",
        "  def __init__(self,name,swim_speed, water_type=\"fresh water\"): #initialization of constructr\n",
        "    super().__init__(name,sound=\"Blub\") #inherrited from parent class , common interface\n",
        "    self.swim_speed=swim_speed  #ddititinal attribute specific to fish class\n",
        "    self.water_type=water_type\n",
        "\n",
        "  def swim(self): #method specific to fish class\n",
        "    return f\"{self.name} is swimming at a speed of {self.swim_speed} mph  and in {self.water_type}\"\n",
        "\n",
        "  def eat(self): #method specific to child class fish\n",
        "    return f\"{self.name} is eating another fish\"\n",
        "\n",
        ""
      ],
      "metadata": {
        "id": "ZUU9yq2nCfLE"
      },
      "execution_count": 27,
      "outputs": []
    },
    {
      "cell_type": "code",
      "source": [
        "#creating the object of child classes(instances of classes)\n",
        "dog1=Dog(\"buddy\",\"golden retriever\") #instance of class dog\n",
        "cat1=Cat(\"whisker\",\"greyish white\") #instance of cat class\n",
        "bird1=Bird(\"tweety\", can_fly=True)\n",
        "fish1=Fish(\"nemo\",50, water_type=\"salt water\") #instance of fish class\n"
      ],
      "metadata": {
        "id": "8AgGGeEcDFbA"
      },
      "execution_count": 39,
      "outputs": []
    },
    {
      "cell_type": "code",
      "source": [
        "# accessing the methods and attributes\n",
        "#plomorsphism in action\n",
        "\n",
        "animal=[dog1,cat1,bird1,fish1] #list of animal objects\n",
        "#\\create a for loop for make sounsd\n",
        "for i in animal: #iterate over the elements and make  use a coomon method to amke a sound\n",
        "  print(i.make_sound()) #method calling\n",
        "  print(i.eat())"
      ],
      "metadata": {
        "colab": {
          "base_uri": "https://localhost:8080/"
        },
        "id": "PR_FsgyWFNAY",
        "outputId": "42d97d16-11a3-45b0-8d81-b5f4c35f2a2a"
      },
      "execution_count": 40,
      "outputs": [
        {
          "output_type": "stream",
          "name": "stdout",
          "text": [
            " buddy makes a sound: Bark\n",
            "buddy is eating\n",
            " whisker makes a sound: Moew\n",
            "whisker is eating\n",
            " tweety makes a sound: Chirp\n",
            "tweety is eating\n",
            " nemo makes a sound: Blub\n",
            "nemo is eating another fish\n"
          ]
        }
      ]
    },
    {
      "cell_type": "code",
      "source": [
        "#accesing the methods separately\n",
        "print(cat1.scratch())"
      ],
      "metadata": {
        "colab": {
          "base_uri": "https://localhost:8080/"
        },
        "id": "jvObOhQaHcBf",
        "outputId": "9642c4e8-7f37-4c50-c9e5-b75e51d2d699"
      },
      "execution_count": 41,
      "outputs": [
        {
          "output_type": "stream",
          "name": "stdout",
          "text": [
            "whisker is scratching the furniture\n"
          ]
        }
      ]
    },
    {
      "cell_type": "code",
      "source": [
        "print(cat1.sleep())\n",
        "print(cat1.eat())\n",
        "print(cat1.energy_level())\n"
      ],
      "metadata": {
        "colab": {
          "base_uri": "https://localhost:8080/"
        },
        "id": "UfR_Ii4iHmIf",
        "outputId": "b0c0274b-5f71-4823-cadb-88ba0bca2246"
      },
      "execution_count": 31,
      "outputs": [
        {
          "output_type": "stream",
          "name": "stdout",
          "text": [
            "whisker is sleeping\n",
            "whisker is eating\n",
            "whisker is having a good energy level\n"
          ]
        }
      ]
    },
    {
      "cell_type": "code",
      "source": [
        "print(fish1.eat())\n",
        "print(fish1.swim())\n"
      ],
      "metadata": {
        "colab": {
          "base_uri": "https://localhost:8080/"
        },
        "id": "Ilm6ABokILVr",
        "outputId": "9dc71054-0eee-4cc6-cf95-745564130471"
      },
      "execution_count": 35,
      "outputs": [
        {
          "output_type": "stream",
          "name": "stdout",
          "text": [
            "nemo is eating another fish\n",
            "nemo is swimming at a speed of 50 mph  and in salt water\n"
          ]
        }
      ]
    },
    {
      "cell_type": "code",
      "source": [
        "print(dog1.fetch())\n",
        "print(dog1.sleep())\n",
        "print(dog1.eat())\n",
        "print(dog1.energy_level())"
      ],
      "metadata": {
        "colab": {
          "base_uri": "https://localhost:8080/"
        },
        "id": "nRXyBCdfIadV",
        "outputId": "7eadd8d7-2f22-498b-bc20-ed00dde8834b"
      },
      "execution_count": 36,
      "outputs": [
        {
          "output_type": "stream",
          "name": "stdout",
          "text": [
            "buddy is fetching the ball !!!!\n",
            "buddy is sleeping\n",
            "buddy is eating\n",
            "buddy is having a good energy level\n"
          ]
        }
      ]
    },
    {
      "cell_type": "code",
      "source": [
        "print(bird1.fly())\n",
        "print(bird1.eat())"
      ],
      "metadata": {
        "colab": {
          "base_uri": "https://localhost:8080/"
        },
        "id": "kl8gT5KSIsl-",
        "outputId": "dee52757-a552-46bd-e1bf-79e0539eaff4"
      },
      "execution_count": 42,
      "outputs": [
        {
          "output_type": "stream",
          "name": "stdout",
          "text": [
            "tweety is flying high in the sky\n",
            "tweety is eating\n"
          ]
        }
      ]
    }
  ]
}